{
  "nbformat": 4,
  "nbformat_minor": 0,
  "metadata": {
    "colab": {
      "provenance": [],
      "gpuType": "T4",
      "collapsed_sections": [
        "4e7xf_45g6Q7",
        "nk4tnwPz2IKd",
        "pB9otQzVk1U3",
        "SgYbiNWXj5Fq",
        "CAions3YztgG",
        "LA-RECBjqE4u",
        "NNmdtne6LSKZ",
        "XBF5O7tyg1jG",
        "ej_jnGWRDMTY"
      ],
      "mount_file_id": "1uqx64W0zOT2lSFWvl4776lkqo08W7mIo",
      "authorship_tag": "ABX9TyNMB6PGa/jtZZbVI7OxDeie",
      "include_colab_link": true
    },
    "kernelspec": {
      "name": "python3",
      "display_name": "Python 3"
    },
    "language_info": {
      "name": "python"
    },
    "accelerator": "GPU",
    "widgets": {
      "application/vnd.jupyter.widget-state+json": {
        "bca1773c94114a9fb817090e9e29d32b": {
          "model_module": "@jupyter-widgets/controls",
          "model_name": "VBoxModel",
          "model_module_version": "1.5.0",
          "state": {
            "_dom_classes": [],
            "_model_module": "@jupyter-widgets/controls",
            "_model_module_version": "1.5.0",
            "_model_name": "VBoxModel",
            "_view_count": null,
            "_view_module": "@jupyter-widgets/controls",
            "_view_module_version": "1.5.0",
            "_view_name": "VBoxView",
            "box_style": "",
            "children": [
              "IPY_MODEL_6bc779b6b5774556899a5d8e8e6e399d",
              "IPY_MODEL_4c9000521e4f43eab23ca0c552b5e9ff"
            ],
            "layout": "IPY_MODEL_da5388182a1d4361ae1b2f72bf865fc2"
          }
        },
        "6bc779b6b5774556899a5d8e8e6e399d": {
          "model_module": "@jupyter-widgets/controls",
          "model_name": "LabelModel",
          "model_module_version": "1.5.0",
          "state": {
            "_dom_classes": [],
            "_model_module": "@jupyter-widgets/controls",
            "_model_module_version": "1.5.0",
            "_model_name": "LabelModel",
            "_view_count": null,
            "_view_module": "@jupyter-widgets/controls",
            "_view_module_version": "1.5.0",
            "_view_name": "LabelView",
            "description": "",
            "description_tooltip": null,
            "layout": "IPY_MODEL_b8f75b850eab4579a59ab8eca57d9459",
            "placeholder": "​",
            "style": "IPY_MODEL_fcb15c6e67794ce095e7f10c5be2d7d6",
            "value": "0.015 MB of 0.015 MB uploaded\r"
          }
        },
        "4c9000521e4f43eab23ca0c552b5e9ff": {
          "model_module": "@jupyter-widgets/controls",
          "model_name": "FloatProgressModel",
          "model_module_version": "1.5.0",
          "state": {
            "_dom_classes": [],
            "_model_module": "@jupyter-widgets/controls",
            "_model_module_version": "1.5.0",
            "_model_name": "FloatProgressModel",
            "_view_count": null,
            "_view_module": "@jupyter-widgets/controls",
            "_view_module_version": "1.5.0",
            "_view_name": "ProgressView",
            "bar_style": "",
            "description": "",
            "description_tooltip": null,
            "layout": "IPY_MODEL_0c8c9be00f014d0b8adc05a213bd6b1a",
            "max": 1,
            "min": 0,
            "orientation": "horizontal",
            "style": "IPY_MODEL_db9014601c414585ad7c133f64e2eb1b",
            "value": 1
          }
        },
        "da5388182a1d4361ae1b2f72bf865fc2": {
          "model_module": "@jupyter-widgets/base",
          "model_name": "LayoutModel",
          "model_module_version": "1.2.0",
          "state": {
            "_model_module": "@jupyter-widgets/base",
            "_model_module_version": "1.2.0",
            "_model_name": "LayoutModel",
            "_view_count": null,
            "_view_module": "@jupyter-widgets/base",
            "_view_module_version": "1.2.0",
            "_view_name": "LayoutView",
            "align_content": null,
            "align_items": null,
            "align_self": null,
            "border": null,
            "bottom": null,
            "display": null,
            "flex": null,
            "flex_flow": null,
            "grid_area": null,
            "grid_auto_columns": null,
            "grid_auto_flow": null,
            "grid_auto_rows": null,
            "grid_column": null,
            "grid_gap": null,
            "grid_row": null,
            "grid_template_areas": null,
            "grid_template_columns": null,
            "grid_template_rows": null,
            "height": null,
            "justify_content": null,
            "justify_items": null,
            "left": null,
            "margin": null,
            "max_height": null,
            "max_width": null,
            "min_height": null,
            "min_width": null,
            "object_fit": null,
            "object_position": null,
            "order": null,
            "overflow": null,
            "overflow_x": null,
            "overflow_y": null,
            "padding": null,
            "right": null,
            "top": null,
            "visibility": null,
            "width": null
          }
        },
        "b8f75b850eab4579a59ab8eca57d9459": {
          "model_module": "@jupyter-widgets/base",
          "model_name": "LayoutModel",
          "model_module_version": "1.2.0",
          "state": {
            "_model_module": "@jupyter-widgets/base",
            "_model_module_version": "1.2.0",
            "_model_name": "LayoutModel",
            "_view_count": null,
            "_view_module": "@jupyter-widgets/base",
            "_view_module_version": "1.2.0",
            "_view_name": "LayoutView",
            "align_content": null,
            "align_items": null,
            "align_self": null,
            "border": null,
            "bottom": null,
            "display": null,
            "flex": null,
            "flex_flow": null,
            "grid_area": null,
            "grid_auto_columns": null,
            "grid_auto_flow": null,
            "grid_auto_rows": null,
            "grid_column": null,
            "grid_gap": null,
            "grid_row": null,
            "grid_template_areas": null,
            "grid_template_columns": null,
            "grid_template_rows": null,
            "height": null,
            "justify_content": null,
            "justify_items": null,
            "left": null,
            "margin": null,
            "max_height": null,
            "max_width": null,
            "min_height": null,
            "min_width": null,
            "object_fit": null,
            "object_position": null,
            "order": null,
            "overflow": null,
            "overflow_x": null,
            "overflow_y": null,
            "padding": null,
            "right": null,
            "top": null,
            "visibility": null,
            "width": null
          }
        },
        "fcb15c6e67794ce095e7f10c5be2d7d6": {
          "model_module": "@jupyter-widgets/controls",
          "model_name": "DescriptionStyleModel",
          "model_module_version": "1.5.0",
          "state": {
            "_model_module": "@jupyter-widgets/controls",
            "_model_module_version": "1.5.0",
            "_model_name": "DescriptionStyleModel",
            "_view_count": null,
            "_view_module": "@jupyter-widgets/base",
            "_view_module_version": "1.2.0",
            "_view_name": "StyleView",
            "description_width": ""
          }
        },
        "0c8c9be00f014d0b8adc05a213bd6b1a": {
          "model_module": "@jupyter-widgets/base",
          "model_name": "LayoutModel",
          "model_module_version": "1.2.0",
          "state": {
            "_model_module": "@jupyter-widgets/base",
            "_model_module_version": "1.2.0",
            "_model_name": "LayoutModel",
            "_view_count": null,
            "_view_module": "@jupyter-widgets/base",
            "_view_module_version": "1.2.0",
            "_view_name": "LayoutView",
            "align_content": null,
            "align_items": null,
            "align_self": null,
            "border": null,
            "bottom": null,
            "display": null,
            "flex": null,
            "flex_flow": null,
            "grid_area": null,
            "grid_auto_columns": null,
            "grid_auto_flow": null,
            "grid_auto_rows": null,
            "grid_column": null,
            "grid_gap": null,
            "grid_row": null,
            "grid_template_areas": null,
            "grid_template_columns": null,
            "grid_template_rows": null,
            "height": null,
            "justify_content": null,
            "justify_items": null,
            "left": null,
            "margin": null,
            "max_height": null,
            "max_width": null,
            "min_height": null,
            "min_width": null,
            "object_fit": null,
            "object_position": null,
            "order": null,
            "overflow": null,
            "overflow_x": null,
            "overflow_y": null,
            "padding": null,
            "right": null,
            "top": null,
            "visibility": null,
            "width": null
          }
        },
        "db9014601c414585ad7c133f64e2eb1b": {
          "model_module": "@jupyter-widgets/controls",
          "model_name": "ProgressStyleModel",
          "model_module_version": "1.5.0",
          "state": {
            "_model_module": "@jupyter-widgets/controls",
            "_model_module_version": "1.5.0",
            "_model_name": "ProgressStyleModel",
            "_view_count": null,
            "_view_module": "@jupyter-widgets/base",
            "_view_module_version": "1.2.0",
            "_view_name": "StyleView",
            "bar_color": null,
            "description_width": ""
          }
        },
        "902ff50d14ae4d02812014e1684a5fad": {
          "model_module": "@jupyter-widgets/controls",
          "model_name": "VBoxModel",
          "model_module_version": "1.5.0",
          "state": {
            "_dom_classes": [],
            "_model_module": "@jupyter-widgets/controls",
            "_model_module_version": "1.5.0",
            "_model_name": "VBoxModel",
            "_view_count": null,
            "_view_module": "@jupyter-widgets/controls",
            "_view_module_version": "1.5.0",
            "_view_name": "VBoxView",
            "box_style": "",
            "children": [
              "IPY_MODEL_16f04602d01c4b668a0014dd6f55cd8d",
              "IPY_MODEL_e683c25879864cf49a2b781a38f8807b"
            ],
            "layout": "IPY_MODEL_3de98e10c8bf422cbf594ae45f68cc25"
          }
        },
        "16f04602d01c4b668a0014dd6f55cd8d": {
          "model_module": "@jupyter-widgets/controls",
          "model_name": "LabelModel",
          "model_module_version": "1.5.0",
          "state": {
            "_dom_classes": [],
            "_model_module": "@jupyter-widgets/controls",
            "_model_module_version": "1.5.0",
            "_model_name": "LabelModel",
            "_view_count": null,
            "_view_module": "@jupyter-widgets/controls",
            "_view_module_version": "1.5.0",
            "_view_name": "LabelView",
            "description": "",
            "description_tooltip": null,
            "layout": "IPY_MODEL_6b60faf0d4e248428955e5d1083d5d37",
            "placeholder": "​",
            "style": "IPY_MODEL_f542f13e354b496a82789e4cf0c6d3bd",
            "value": "0.015 MB of 0.015 MB uploaded\r"
          }
        },
        "e683c25879864cf49a2b781a38f8807b": {
          "model_module": "@jupyter-widgets/controls",
          "model_name": "FloatProgressModel",
          "model_module_version": "1.5.0",
          "state": {
            "_dom_classes": [],
            "_model_module": "@jupyter-widgets/controls",
            "_model_module_version": "1.5.0",
            "_model_name": "FloatProgressModel",
            "_view_count": null,
            "_view_module": "@jupyter-widgets/controls",
            "_view_module_version": "1.5.0",
            "_view_name": "ProgressView",
            "bar_style": "",
            "description": "",
            "description_tooltip": null,
            "layout": "IPY_MODEL_825e07a909fc4d2186d5d488cfd00a94",
            "max": 1,
            "min": 0,
            "orientation": "horizontal",
            "style": "IPY_MODEL_a57c30f97dfa438da8151cfbbfa7ab35",
            "value": 1
          }
        },
        "3de98e10c8bf422cbf594ae45f68cc25": {
          "model_module": "@jupyter-widgets/base",
          "model_name": "LayoutModel",
          "model_module_version": "1.2.0",
          "state": {
            "_model_module": "@jupyter-widgets/base",
            "_model_module_version": "1.2.0",
            "_model_name": "LayoutModel",
            "_view_count": null,
            "_view_module": "@jupyter-widgets/base",
            "_view_module_version": "1.2.0",
            "_view_name": "LayoutView",
            "align_content": null,
            "align_items": null,
            "align_self": null,
            "border": null,
            "bottom": null,
            "display": null,
            "flex": null,
            "flex_flow": null,
            "grid_area": null,
            "grid_auto_columns": null,
            "grid_auto_flow": null,
            "grid_auto_rows": null,
            "grid_column": null,
            "grid_gap": null,
            "grid_row": null,
            "grid_template_areas": null,
            "grid_template_columns": null,
            "grid_template_rows": null,
            "height": null,
            "justify_content": null,
            "justify_items": null,
            "left": null,
            "margin": null,
            "max_height": null,
            "max_width": null,
            "min_height": null,
            "min_width": null,
            "object_fit": null,
            "object_position": null,
            "order": null,
            "overflow": null,
            "overflow_x": null,
            "overflow_y": null,
            "padding": null,
            "right": null,
            "top": null,
            "visibility": null,
            "width": null
          }
        },
        "6b60faf0d4e248428955e5d1083d5d37": {
          "model_module": "@jupyter-widgets/base",
          "model_name": "LayoutModel",
          "model_module_version": "1.2.0",
          "state": {
            "_model_module": "@jupyter-widgets/base",
            "_model_module_version": "1.2.0",
            "_model_name": "LayoutModel",
            "_view_count": null,
            "_view_module": "@jupyter-widgets/base",
            "_view_module_version": "1.2.0",
            "_view_name": "LayoutView",
            "align_content": null,
            "align_items": null,
            "align_self": null,
            "border": null,
            "bottom": null,
            "display": null,
            "flex": null,
            "flex_flow": null,
            "grid_area": null,
            "grid_auto_columns": null,
            "grid_auto_flow": null,
            "grid_auto_rows": null,
            "grid_column": null,
            "grid_gap": null,
            "grid_row": null,
            "grid_template_areas": null,
            "grid_template_columns": null,
            "grid_template_rows": null,
            "height": null,
            "justify_content": null,
            "justify_items": null,
            "left": null,
            "margin": null,
            "max_height": null,
            "max_width": null,
            "min_height": null,
            "min_width": null,
            "object_fit": null,
            "object_position": null,
            "order": null,
            "overflow": null,
            "overflow_x": null,
            "overflow_y": null,
            "padding": null,
            "right": null,
            "top": null,
            "visibility": null,
            "width": null
          }
        },
        "f542f13e354b496a82789e4cf0c6d3bd": {
          "model_module": "@jupyter-widgets/controls",
          "model_name": "DescriptionStyleModel",
          "model_module_version": "1.5.0",
          "state": {
            "_model_module": "@jupyter-widgets/controls",
            "_model_module_version": "1.5.0",
            "_model_name": "DescriptionStyleModel",
            "_view_count": null,
            "_view_module": "@jupyter-widgets/base",
            "_view_module_version": "1.2.0",
            "_view_name": "StyleView",
            "description_width": ""
          }
        },
        "825e07a909fc4d2186d5d488cfd00a94": {
          "model_module": "@jupyter-widgets/base",
          "model_name": "LayoutModel",
          "model_module_version": "1.2.0",
          "state": {
            "_model_module": "@jupyter-widgets/base",
            "_model_module_version": "1.2.0",
            "_model_name": "LayoutModel",
            "_view_count": null,
            "_view_module": "@jupyter-widgets/base",
            "_view_module_version": "1.2.0",
            "_view_name": "LayoutView",
            "align_content": null,
            "align_items": null,
            "align_self": null,
            "border": null,
            "bottom": null,
            "display": null,
            "flex": null,
            "flex_flow": null,
            "grid_area": null,
            "grid_auto_columns": null,
            "grid_auto_flow": null,
            "grid_auto_rows": null,
            "grid_column": null,
            "grid_gap": null,
            "grid_row": null,
            "grid_template_areas": null,
            "grid_template_columns": null,
            "grid_template_rows": null,
            "height": null,
            "justify_content": null,
            "justify_items": null,
            "left": null,
            "margin": null,
            "max_height": null,
            "max_width": null,
            "min_height": null,
            "min_width": null,
            "object_fit": null,
            "object_position": null,
            "order": null,
            "overflow": null,
            "overflow_x": null,
            "overflow_y": null,
            "padding": null,
            "right": null,
            "top": null,
            "visibility": null,
            "width": null
          }
        },
        "a57c30f97dfa438da8151cfbbfa7ab35": {
          "model_module": "@jupyter-widgets/controls",
          "model_name": "ProgressStyleModel",
          "model_module_version": "1.5.0",
          "state": {
            "_model_module": "@jupyter-widgets/controls",
            "_model_module_version": "1.5.0",
            "_model_name": "ProgressStyleModel",
            "_view_count": null,
            "_view_module": "@jupyter-widgets/base",
            "_view_module_version": "1.2.0",
            "_view_name": "StyleView",
            "bar_color": null,
            "description_width": ""
          }
        },
        "f4c3a50a5cf44155af1775c59dedca6b": {
          "model_module": "@jupyter-widgets/controls",
          "model_name": "VBoxModel",
          "model_module_version": "1.5.0",
          "state": {
            "_dom_classes": [],
            "_model_module": "@jupyter-widgets/controls",
            "_model_module_version": "1.5.0",
            "_model_name": "VBoxModel",
            "_view_count": null,
            "_view_module": "@jupyter-widgets/controls",
            "_view_module_version": "1.5.0",
            "_view_name": "VBoxView",
            "box_style": "",
            "children": [
              "IPY_MODEL_e75b89a111a14487bea13136153d27f8",
              "IPY_MODEL_3a33abfca42a45ae848029b8508e9f3e"
            ],
            "layout": "IPY_MODEL_e2f8161568b3450d8d8e3462795b2b52"
          }
        },
        "e75b89a111a14487bea13136153d27f8": {
          "model_module": "@jupyter-widgets/controls",
          "model_name": "LabelModel",
          "model_module_version": "1.5.0",
          "state": {
            "_dom_classes": [],
            "_model_module": "@jupyter-widgets/controls",
            "_model_module_version": "1.5.0",
            "_model_name": "LabelModel",
            "_view_count": null,
            "_view_module": "@jupyter-widgets/controls",
            "_view_module_version": "1.5.0",
            "_view_name": "LabelView",
            "description": "",
            "description_tooltip": null,
            "layout": "IPY_MODEL_55abc01888ef42038136930674ba6662",
            "placeholder": "​",
            "style": "IPY_MODEL_3a5954dccc5741de80a8679fa40c33bb",
            "value": "0.016 MB of 0.016 MB uploaded\r"
          }
        },
        "3a33abfca42a45ae848029b8508e9f3e": {
          "model_module": "@jupyter-widgets/controls",
          "model_name": "FloatProgressModel",
          "model_module_version": "1.5.0",
          "state": {
            "_dom_classes": [],
            "_model_module": "@jupyter-widgets/controls",
            "_model_module_version": "1.5.0",
            "_model_name": "FloatProgressModel",
            "_view_count": null,
            "_view_module": "@jupyter-widgets/controls",
            "_view_module_version": "1.5.0",
            "_view_name": "ProgressView",
            "bar_style": "",
            "description": "",
            "description_tooltip": null,
            "layout": "IPY_MODEL_0abd9dfeffc94823aa48071f806f32dc",
            "max": 1,
            "min": 0,
            "orientation": "horizontal",
            "style": "IPY_MODEL_6a6ec5bfe0c4422e936603404364c317",
            "value": 1
          }
        },
        "e2f8161568b3450d8d8e3462795b2b52": {
          "model_module": "@jupyter-widgets/base",
          "model_name": "LayoutModel",
          "model_module_version": "1.2.0",
          "state": {
            "_model_module": "@jupyter-widgets/base",
            "_model_module_version": "1.2.0",
            "_model_name": "LayoutModel",
            "_view_count": null,
            "_view_module": "@jupyter-widgets/base",
            "_view_module_version": "1.2.0",
            "_view_name": "LayoutView",
            "align_content": null,
            "align_items": null,
            "align_self": null,
            "border": null,
            "bottom": null,
            "display": null,
            "flex": null,
            "flex_flow": null,
            "grid_area": null,
            "grid_auto_columns": null,
            "grid_auto_flow": null,
            "grid_auto_rows": null,
            "grid_column": null,
            "grid_gap": null,
            "grid_row": null,
            "grid_template_areas": null,
            "grid_template_columns": null,
            "grid_template_rows": null,
            "height": null,
            "justify_content": null,
            "justify_items": null,
            "left": null,
            "margin": null,
            "max_height": null,
            "max_width": null,
            "min_height": null,
            "min_width": null,
            "object_fit": null,
            "object_position": null,
            "order": null,
            "overflow": null,
            "overflow_x": null,
            "overflow_y": null,
            "padding": null,
            "right": null,
            "top": null,
            "visibility": null,
            "width": null
          }
        },
        "55abc01888ef42038136930674ba6662": {
          "model_module": "@jupyter-widgets/base",
          "model_name": "LayoutModel",
          "model_module_version": "1.2.0",
          "state": {
            "_model_module": "@jupyter-widgets/base",
            "_model_module_version": "1.2.0",
            "_model_name": "LayoutModel",
            "_view_count": null,
            "_view_module": "@jupyter-widgets/base",
            "_view_module_version": "1.2.0",
            "_view_name": "LayoutView",
            "align_content": null,
            "align_items": null,
            "align_self": null,
            "border": null,
            "bottom": null,
            "display": null,
            "flex": null,
            "flex_flow": null,
            "grid_area": null,
            "grid_auto_columns": null,
            "grid_auto_flow": null,
            "grid_auto_rows": null,
            "grid_column": null,
            "grid_gap": null,
            "grid_row": null,
            "grid_template_areas": null,
            "grid_template_columns": null,
            "grid_template_rows": null,
            "height": null,
            "justify_content": null,
            "justify_items": null,
            "left": null,
            "margin": null,
            "max_height": null,
            "max_width": null,
            "min_height": null,
            "min_width": null,
            "object_fit": null,
            "object_position": null,
            "order": null,
            "overflow": null,
            "overflow_x": null,
            "overflow_y": null,
            "padding": null,
            "right": null,
            "top": null,
            "visibility": null,
            "width": null
          }
        },
        "3a5954dccc5741de80a8679fa40c33bb": {
          "model_module": "@jupyter-widgets/controls",
          "model_name": "DescriptionStyleModel",
          "model_module_version": "1.5.0",
          "state": {
            "_model_module": "@jupyter-widgets/controls",
            "_model_module_version": "1.5.0",
            "_model_name": "DescriptionStyleModel",
            "_view_count": null,
            "_view_module": "@jupyter-widgets/base",
            "_view_module_version": "1.2.0",
            "_view_name": "StyleView",
            "description_width": ""
          }
        },
        "0abd9dfeffc94823aa48071f806f32dc": {
          "model_module": "@jupyter-widgets/base",
          "model_name": "LayoutModel",
          "model_module_version": "1.2.0",
          "state": {
            "_model_module": "@jupyter-widgets/base",
            "_model_module_version": "1.2.0",
            "_model_name": "LayoutModel",
            "_view_count": null,
            "_view_module": "@jupyter-widgets/base",
            "_view_module_version": "1.2.0",
            "_view_name": "LayoutView",
            "align_content": null,
            "align_items": null,
            "align_self": null,
            "border": null,
            "bottom": null,
            "display": null,
            "flex": null,
            "flex_flow": null,
            "grid_area": null,
            "grid_auto_columns": null,
            "grid_auto_flow": null,
            "grid_auto_rows": null,
            "grid_column": null,
            "grid_gap": null,
            "grid_row": null,
            "grid_template_areas": null,
            "grid_template_columns": null,
            "grid_template_rows": null,
            "height": null,
            "justify_content": null,
            "justify_items": null,
            "left": null,
            "margin": null,
            "max_height": null,
            "max_width": null,
            "min_height": null,
            "min_width": null,
            "object_fit": null,
            "object_position": null,
            "order": null,
            "overflow": null,
            "overflow_x": null,
            "overflow_y": null,
            "padding": null,
            "right": null,
            "top": null,
            "visibility": null,
            "width": null
          }
        },
        "6a6ec5bfe0c4422e936603404364c317": {
          "model_module": "@jupyter-widgets/controls",
          "model_name": "ProgressStyleModel",
          "model_module_version": "1.5.0",
          "state": {
            "_model_module": "@jupyter-widgets/controls",
            "_model_module_version": "1.5.0",
            "_model_name": "ProgressStyleModel",
            "_view_count": null,
            "_view_module": "@jupyter-widgets/base",
            "_view_module_version": "1.2.0",
            "_view_name": "StyleView",
            "bar_color": null,
            "description_width": ""
          }
        },
        "70e4e1a4f717489090a218450d17f7c6": {
          "model_module": "@jupyter-widgets/controls",
          "model_name": "VBoxModel",
          "model_module_version": "1.5.0",
          "state": {
            "_dom_classes": [],
            "_model_module": "@jupyter-widgets/controls",
            "_model_module_version": "1.5.0",
            "_model_name": "VBoxModel",
            "_view_count": null,
            "_view_module": "@jupyter-widgets/controls",
            "_view_module_version": "1.5.0",
            "_view_name": "VBoxView",
            "box_style": "",
            "children": [
              "IPY_MODEL_cdfeb9471408426ebf68a8bf3339dcec",
              "IPY_MODEL_14c0826f8bf245b78464a0f780b1fe7c"
            ],
            "layout": "IPY_MODEL_021ae275cdc84bfe9cfecc98907e9d20"
          }
        },
        "cdfeb9471408426ebf68a8bf3339dcec": {
          "model_module": "@jupyter-widgets/controls",
          "model_name": "LabelModel",
          "model_module_version": "1.5.0",
          "state": {
            "_dom_classes": [],
            "_model_module": "@jupyter-widgets/controls",
            "_model_module_version": "1.5.0",
            "_model_name": "LabelModel",
            "_view_count": null,
            "_view_module": "@jupyter-widgets/controls",
            "_view_module_version": "1.5.0",
            "_view_name": "LabelView",
            "description": "",
            "description_tooltip": null,
            "layout": "IPY_MODEL_c08bec65fe7d481f86010fb64d850b2e",
            "placeholder": "​",
            "style": "IPY_MODEL_dd025a92729744c0bedb6f4428c5e8ee",
            "value": "0.016 MB of 0.016 MB uploaded\r"
          }
        },
        "14c0826f8bf245b78464a0f780b1fe7c": {
          "model_module": "@jupyter-widgets/controls",
          "model_name": "FloatProgressModel",
          "model_module_version": "1.5.0",
          "state": {
            "_dom_classes": [],
            "_model_module": "@jupyter-widgets/controls",
            "_model_module_version": "1.5.0",
            "_model_name": "FloatProgressModel",
            "_view_count": null,
            "_view_module": "@jupyter-widgets/controls",
            "_view_module_version": "1.5.0",
            "_view_name": "ProgressView",
            "bar_style": "",
            "description": "",
            "description_tooltip": null,
            "layout": "IPY_MODEL_aa61c467f1644d9c8d38e4253311e402",
            "max": 1,
            "min": 0,
            "orientation": "horizontal",
            "style": "IPY_MODEL_f10a513a16864db6a6bc8ad656c8ce0b",
            "value": 1
          }
        },
        "021ae275cdc84bfe9cfecc98907e9d20": {
          "model_module": "@jupyter-widgets/base",
          "model_name": "LayoutModel",
          "model_module_version": "1.2.0",
          "state": {
            "_model_module": "@jupyter-widgets/base",
            "_model_module_version": "1.2.0",
            "_model_name": "LayoutModel",
            "_view_count": null,
            "_view_module": "@jupyter-widgets/base",
            "_view_module_version": "1.2.0",
            "_view_name": "LayoutView",
            "align_content": null,
            "align_items": null,
            "align_self": null,
            "border": null,
            "bottom": null,
            "display": null,
            "flex": null,
            "flex_flow": null,
            "grid_area": null,
            "grid_auto_columns": null,
            "grid_auto_flow": null,
            "grid_auto_rows": null,
            "grid_column": null,
            "grid_gap": null,
            "grid_row": null,
            "grid_template_areas": null,
            "grid_template_columns": null,
            "grid_template_rows": null,
            "height": null,
            "justify_content": null,
            "justify_items": null,
            "left": null,
            "margin": null,
            "max_height": null,
            "max_width": null,
            "min_height": null,
            "min_width": null,
            "object_fit": null,
            "object_position": null,
            "order": null,
            "overflow": null,
            "overflow_x": null,
            "overflow_y": null,
            "padding": null,
            "right": null,
            "top": null,
            "visibility": null,
            "width": null
          }
        },
        "c08bec65fe7d481f86010fb64d850b2e": {
          "model_module": "@jupyter-widgets/base",
          "model_name": "LayoutModel",
          "model_module_version": "1.2.0",
          "state": {
            "_model_module": "@jupyter-widgets/base",
            "_model_module_version": "1.2.0",
            "_model_name": "LayoutModel",
            "_view_count": null,
            "_view_module": "@jupyter-widgets/base",
            "_view_module_version": "1.2.0",
            "_view_name": "LayoutView",
            "align_content": null,
            "align_items": null,
            "align_self": null,
            "border": null,
            "bottom": null,
            "display": null,
            "flex": null,
            "flex_flow": null,
            "grid_area": null,
            "grid_auto_columns": null,
            "grid_auto_flow": null,
            "grid_auto_rows": null,
            "grid_column": null,
            "grid_gap": null,
            "grid_row": null,
            "grid_template_areas": null,
            "grid_template_columns": null,
            "grid_template_rows": null,
            "height": null,
            "justify_content": null,
            "justify_items": null,
            "left": null,
            "margin": null,
            "max_height": null,
            "max_width": null,
            "min_height": null,
            "min_width": null,
            "object_fit": null,
            "object_position": null,
            "order": null,
            "overflow": null,
            "overflow_x": null,
            "overflow_y": null,
            "padding": null,
            "right": null,
            "top": null,
            "visibility": null,
            "width": null
          }
        },
        "dd025a92729744c0bedb6f4428c5e8ee": {
          "model_module": "@jupyter-widgets/controls",
          "model_name": "DescriptionStyleModel",
          "model_module_version": "1.5.0",
          "state": {
            "_model_module": "@jupyter-widgets/controls",
            "_model_module_version": "1.5.0",
            "_model_name": "DescriptionStyleModel",
            "_view_count": null,
            "_view_module": "@jupyter-widgets/base",
            "_view_module_version": "1.2.0",
            "_view_name": "StyleView",
            "description_width": ""
          }
        },
        "aa61c467f1644d9c8d38e4253311e402": {
          "model_module": "@jupyter-widgets/base",
          "model_name": "LayoutModel",
          "model_module_version": "1.2.0",
          "state": {
            "_model_module": "@jupyter-widgets/base",
            "_model_module_version": "1.2.0",
            "_model_name": "LayoutModel",
            "_view_count": null,
            "_view_module": "@jupyter-widgets/base",
            "_view_module_version": "1.2.0",
            "_view_name": "LayoutView",
            "align_content": null,
            "align_items": null,
            "align_self": null,
            "border": null,
            "bottom": null,
            "display": null,
            "flex": null,
            "flex_flow": null,
            "grid_area": null,
            "grid_auto_columns": null,
            "grid_auto_flow": null,
            "grid_auto_rows": null,
            "grid_column": null,
            "grid_gap": null,
            "grid_row": null,
            "grid_template_areas": null,
            "grid_template_columns": null,
            "grid_template_rows": null,
            "height": null,
            "justify_content": null,
            "justify_items": null,
            "left": null,
            "margin": null,
            "max_height": null,
            "max_width": null,
            "min_height": null,
            "min_width": null,
            "object_fit": null,
            "object_position": null,
            "order": null,
            "overflow": null,
            "overflow_x": null,
            "overflow_y": null,
            "padding": null,
            "right": null,
            "top": null,
            "visibility": null,
            "width": null
          }
        },
        "f10a513a16864db6a6bc8ad656c8ce0b": {
          "model_module": "@jupyter-widgets/controls",
          "model_name": "ProgressStyleModel",
          "model_module_version": "1.5.0",
          "state": {
            "_model_module": "@jupyter-widgets/controls",
            "_model_module_version": "1.5.0",
            "_model_name": "ProgressStyleModel",
            "_view_count": null,
            "_view_module": "@jupyter-widgets/base",
            "_view_module_version": "1.2.0",
            "_view_name": "StyleView",
            "bar_color": null,
            "description_width": ""
          }
        },
        "91bc9e0aac1141bb8e5e2712be395d3e": {
          "model_module": "@jupyter-widgets/controls",
          "model_name": "VBoxModel",
          "model_module_version": "1.5.0",
          "state": {
            "_dom_classes": [],
            "_model_module": "@jupyter-widgets/controls",
            "_model_module_version": "1.5.0",
            "_model_name": "VBoxModel",
            "_view_count": null,
            "_view_module": "@jupyter-widgets/controls",
            "_view_module_version": "1.5.0",
            "_view_name": "VBoxView",
            "box_style": "",
            "children": [
              "IPY_MODEL_69fc5b0883bd4605ab2ab01f6b921bd3",
              "IPY_MODEL_483061a2720d41bb815a584013ddcf23"
            ],
            "layout": "IPY_MODEL_2fe93118c7394065981987f592b95c9b"
          }
        },
        "69fc5b0883bd4605ab2ab01f6b921bd3": {
          "model_module": "@jupyter-widgets/controls",
          "model_name": "LabelModel",
          "model_module_version": "1.5.0",
          "state": {
            "_dom_classes": [],
            "_model_module": "@jupyter-widgets/controls",
            "_model_module_version": "1.5.0",
            "_model_name": "LabelModel",
            "_view_count": null,
            "_view_module": "@jupyter-widgets/controls",
            "_view_module_version": "1.5.0",
            "_view_name": "LabelView",
            "description": "",
            "description_tooltip": null,
            "layout": "IPY_MODEL_ba13e27e667f4ec4b5c094abe497b649",
            "placeholder": "​",
            "style": "IPY_MODEL_bc93dccd110b456e80c790918aebd285",
            "value": "0.015 MB of 0.015 MB uploaded\r"
          }
        },
        "483061a2720d41bb815a584013ddcf23": {
          "model_module": "@jupyter-widgets/controls",
          "model_name": "FloatProgressModel",
          "model_module_version": "1.5.0",
          "state": {
            "_dom_classes": [],
            "_model_module": "@jupyter-widgets/controls",
            "_model_module_version": "1.5.0",
            "_model_name": "FloatProgressModel",
            "_view_count": null,
            "_view_module": "@jupyter-widgets/controls",
            "_view_module_version": "1.5.0",
            "_view_name": "ProgressView",
            "bar_style": "",
            "description": "",
            "description_tooltip": null,
            "layout": "IPY_MODEL_7cab4a1c93934d46ba32253c1be8650f",
            "max": 1,
            "min": 0,
            "orientation": "horizontal",
            "style": "IPY_MODEL_3ea3b9ed22a144a1abaac1617ad7fc88",
            "value": 1
          }
        },
        "2fe93118c7394065981987f592b95c9b": {
          "model_module": "@jupyter-widgets/base",
          "model_name": "LayoutModel",
          "model_module_version": "1.2.0",
          "state": {
            "_model_module": "@jupyter-widgets/base",
            "_model_module_version": "1.2.0",
            "_model_name": "LayoutModel",
            "_view_count": null,
            "_view_module": "@jupyter-widgets/base",
            "_view_module_version": "1.2.0",
            "_view_name": "LayoutView",
            "align_content": null,
            "align_items": null,
            "align_self": null,
            "border": null,
            "bottom": null,
            "display": null,
            "flex": null,
            "flex_flow": null,
            "grid_area": null,
            "grid_auto_columns": null,
            "grid_auto_flow": null,
            "grid_auto_rows": null,
            "grid_column": null,
            "grid_gap": null,
            "grid_row": null,
            "grid_template_areas": null,
            "grid_template_columns": null,
            "grid_template_rows": null,
            "height": null,
            "justify_content": null,
            "justify_items": null,
            "left": null,
            "margin": null,
            "max_height": null,
            "max_width": null,
            "min_height": null,
            "min_width": null,
            "object_fit": null,
            "object_position": null,
            "order": null,
            "overflow": null,
            "overflow_x": null,
            "overflow_y": null,
            "padding": null,
            "right": null,
            "top": null,
            "visibility": null,
            "width": null
          }
        },
        "ba13e27e667f4ec4b5c094abe497b649": {
          "model_module": "@jupyter-widgets/base",
          "model_name": "LayoutModel",
          "model_module_version": "1.2.0",
          "state": {
            "_model_module": "@jupyter-widgets/base",
            "_model_module_version": "1.2.0",
            "_model_name": "LayoutModel",
            "_view_count": null,
            "_view_module": "@jupyter-widgets/base",
            "_view_module_version": "1.2.0",
            "_view_name": "LayoutView",
            "align_content": null,
            "align_items": null,
            "align_self": null,
            "border": null,
            "bottom": null,
            "display": null,
            "flex": null,
            "flex_flow": null,
            "grid_area": null,
            "grid_auto_columns": null,
            "grid_auto_flow": null,
            "grid_auto_rows": null,
            "grid_column": null,
            "grid_gap": null,
            "grid_row": null,
            "grid_template_areas": null,
            "grid_template_columns": null,
            "grid_template_rows": null,
            "height": null,
            "justify_content": null,
            "justify_items": null,
            "left": null,
            "margin": null,
            "max_height": null,
            "max_width": null,
            "min_height": null,
            "min_width": null,
            "object_fit": null,
            "object_position": null,
            "order": null,
            "overflow": null,
            "overflow_x": null,
            "overflow_y": null,
            "padding": null,
            "right": null,
            "top": null,
            "visibility": null,
            "width": null
          }
        },
        "bc93dccd110b456e80c790918aebd285": {
          "model_module": "@jupyter-widgets/controls",
          "model_name": "DescriptionStyleModel",
          "model_module_version": "1.5.0",
          "state": {
            "_model_module": "@jupyter-widgets/controls",
            "_model_module_version": "1.5.0",
            "_model_name": "DescriptionStyleModel",
            "_view_count": null,
            "_view_module": "@jupyter-widgets/base",
            "_view_module_version": "1.2.0",
            "_view_name": "StyleView",
            "description_width": ""
          }
        },
        "7cab4a1c93934d46ba32253c1be8650f": {
          "model_module": "@jupyter-widgets/base",
          "model_name": "LayoutModel",
          "model_module_version": "1.2.0",
          "state": {
            "_model_module": "@jupyter-widgets/base",
            "_model_module_version": "1.2.0",
            "_model_name": "LayoutModel",
            "_view_count": null,
            "_view_module": "@jupyter-widgets/base",
            "_view_module_version": "1.2.0",
            "_view_name": "LayoutView",
            "align_content": null,
            "align_items": null,
            "align_self": null,
            "border": null,
            "bottom": null,
            "display": null,
            "flex": null,
            "flex_flow": null,
            "grid_area": null,
            "grid_auto_columns": null,
            "grid_auto_flow": null,
            "grid_auto_rows": null,
            "grid_column": null,
            "grid_gap": null,
            "grid_row": null,
            "grid_template_areas": null,
            "grid_template_columns": null,
            "grid_template_rows": null,
            "height": null,
            "justify_content": null,
            "justify_items": null,
            "left": null,
            "margin": null,
            "max_height": null,
            "max_width": null,
            "min_height": null,
            "min_width": null,
            "object_fit": null,
            "object_position": null,
            "order": null,
            "overflow": null,
            "overflow_x": null,
            "overflow_y": null,
            "padding": null,
            "right": null,
            "top": null,
            "visibility": null,
            "width": null
          }
        },
        "3ea3b9ed22a144a1abaac1617ad7fc88": {
          "model_module": "@jupyter-widgets/controls",
          "model_name": "ProgressStyleModel",
          "model_module_version": "1.5.0",
          "state": {
            "_model_module": "@jupyter-widgets/controls",
            "_model_module_version": "1.5.0",
            "_model_name": "ProgressStyleModel",
            "_view_count": null,
            "_view_module": "@jupyter-widgets/base",
            "_view_module_version": "1.2.0",
            "_view_name": "StyleView",
            "bar_color": null,
            "description_width": ""
          }
        }
      }
    }
  },
  "cells": [
    {
      "cell_type": "markdown",
      "metadata": {
        "id": "view-in-github",
        "colab_type": "text"
      },
      "source": [
        "<a href=\"https://colab.research.google.com/github/zain-0/Malaria-Diagnosis-using-LeNet-and-WandB.AI/blob/main/Malaria_Diagnosis_CNN.ipynb\" target=\"_parent\"><img src=\"https://colab.research.google.com/assets/colab-badge.svg\" alt=\"Open In Colab\"/></a>"
      ]
    },
    {
      "cell_type": "markdown",
      "source": [
        "# Importing Libraries"
      ],
      "metadata": {
        "id": "hnUb4bPzLno4"
      }
    },
    {
      "cell_type": "code",
      "execution_count": null,
      "metadata": {
        "id": "vQjozsdXGjAk"
      },
      "outputs": [],
      "source": [
        "import tensorflow as tf\n",
        "import numpy as np\n",
        "import tensorflow_datasets as tfds\n",
        "import matplotlib.pyplot as plt\n",
        "import sklearn\n",
        "import cv2\n",
        "import seaborn as sns\n",
        "import tensorflow_probability as tfp\n",
        "from tensorflow.keras.callbacks import CSVLogger,EarlyStopping,LearningRateScheduler,TensorBoard\n",
        "from tensorflow.keras.layers import InputLayer, Conv2D, MaxPool2D, Flatten, Dense, BatchNormalization, Dropout, Resizing, Rescaling, RandomRotation, RandomFlip, RandomContrast\n",
        "from tensorflow.keras.regularizers import L2\n",
        "from tensorboard.plugins.hparams import api as hp\n",
        "from tensorflow.keras.optimizers import Adam\n",
        "from tensorflow.keras.metrics import BinaryAccuracy,TruePositives,FalsePositives,TrueNegatives,FalseNegatives,Precision,Recall,AUC\n",
        "from tensorflow.keras.losses import BinaryCrossentropy\n",
        "import wandb\n",
        "from wandb.keras import WandbMetricsLogger, WandbModelCheckpoint,WandbCallback\n",
        "import random"
      ]
    },
    {
      "cell_type": "code",
      "source": [
        "dataset, dataset_info = tfds.load('malaria',with_info=True,as_supervised=True,shuffle_files=True,split=['train'])\n"
      ],
      "metadata": {
        "id": "ybiqrSrROuaE"
      },
      "execution_count": null,
      "outputs": []
    },
    {
      "cell_type": "markdown",
      "source": [
        "# Splitting of Data"
      ],
      "metadata": {
        "id": "9H6ssWFXLYI5"
      }
    },
    {
      "cell_type": "code",
      "source": [
        "def split(datasets, train_ratio, val_ratio, test_ratio):\n",
        "    dataset_size = len(datasets)\n",
        "\n",
        "    # Calculate sizes for each split\n",
        "    train_size = int(train_ratio * dataset_size)\n",
        "    val_size = int(val_ratio * dataset_size)\n",
        "    test_size = int(test_ratio * dataset_size)\n",
        "\n",
        "    # Split the dataset directly\n",
        "    train_dataset = datasets.take(train_size)\n",
        "    val_test_dataset = datasets.skip(train_size)\n",
        "    val_dataset = val_test_dataset.take(val_size)\n",
        "    test_dataset = val_test_dataset.skip(val_size)\n",
        "\n",
        "    return train_dataset, val_dataset, test_dataset"
      ],
      "metadata": {
        "id": "JKdZ4rKOX_6E"
      },
      "execution_count": null,
      "outputs": []
    },
    {
      "cell_type": "code",
      "source": [
        "Train_ratio = 0.8\n",
        "Validation_ratio = 0.1\n",
        "Test_ratio = 0.1\n",
        "train_dataset, val_dataset, test_dataset = split(dataset[0],Train_ratio,Validation_ratio, Test_ratio)\n",
        "\n",
        "# Function to check the number of sample in train_dataset.\n",
        "print(tf.data.experimental.cardinality(test_dataset))"
      ],
      "metadata": {
        "colab": {
          "base_uri": "https://localhost:8080/"
        },
        "id": "cCCFSllGO4GE",
        "outputId": "70165298-70d2-4a82-e8c6-f9359b1b79f9"
      },
      "execution_count": null,
      "outputs": [
        {
          "output_type": "stream",
          "name": "stdout",
          "text": [
            "tf.Tensor(2757, shape=(), dtype=int64)\n"
          ]
        }
      ]
    },
    {
      "cell_type": "code",
      "source": [
        "for example, (image, label) in enumerate(train_dataset.take(16)):\n",
        "  ax=plt.subplot(4,4,example+1)\n",
        "  plt.imshow(image)\n",
        "  plt.axis('off')\n",
        "  plt.title(dataset_info.features['label'].int2str(label))"
      ],
      "metadata": {
        "id": "uz51wAOuO7k_",
        "colab": {
          "base_uri": "https://localhost:8080/",
          "height": 428
        },
        "outputId": "eefae272-428b-4cfa-ed4f-83522aa53665"
      },
      "execution_count": null,
      "outputs": [
        {
          "output_type": "display_data",
          "data": {
            "text/plain": [
              "<Figure size 640x480 with 16 Axes>"
            ],
            "image/png": "[encoded data removed]"
          },
          "metadata": {}
        }
      ]
    },
    {
      "cell_type": "code",
      "source": [
        "dataset_info.features['label'].int2str(1)"
      ],
      "metadata": {
        "id": "95ztOoMRYMwn",
        "colab": {
          "base_uri": "https://localhost:8080/",
          "height": 36
        },
        "outputId": "7a351d2b-a951-4339-b2f4-ae86fa40584a"
      },
      "execution_count": null,
      "outputs": [
        {
          "output_type": "execute_result",
          "data": {
            "text/plain": [
              "'uninfected'"
            ],
            "application/vnd.google.colaboratory.intrinsic+json": {
              "type": "string"
            }
          },
          "metadata": {},
          "execution_count": 6
        }
      ]
    },
    {
      "cell_type": "markdown",
      "source": [
        "# Data Augmentation"
      ],
      "metadata": {
        "id": "4e7xf_45g6Q7"
      }
    },
    {
      "cell_type": "code",
      "source": [
        "def visualize_difference(original, augmented):\n",
        "  plt.subplot(1,2,1)\n",
        "  plt.imshow(original)\n",
        "\n",
        "  plt.subplot(1,2,2)\n",
        "  plt.imshow(augmented)"
      ],
      "metadata": {
        "id": "aa-k2w6yg6zy"
      },
      "execution_count": null,
      "outputs": []
    },
    {
      "cell_type": "code",
      "source": [
        "original_image,label=next(iter(train_dataset))"
      ],
      "metadata": {
        "id": "161o_aqohRAy"
      },
      "execution_count": null,
      "outputs": []
    },
    {
      "cell_type": "code",
      "source": [
        "augmented_image=tf.image.adjust_brightness(original_image,-0.5)"
      ],
      "metadata": {
        "id": "xCn-k9LvhVpK"
      },
      "execution_count": null,
      "outputs": []
    },
    {
      "cell_type": "code",
      "source": [
        "visualize_difference(original_image,augmented_image)"
      ],
      "metadata": {
        "colab": {
          "base_uri": "https://localhost:8080/",
          "height": 290
        },
        "id": "LHnjspEPhbEK",
        "outputId": "8bf9f16d-7154-4f88-be1a-af839785a99f"
      },
      "execution_count": null,
      "outputs": [
        {
          "output_type": "display_data",
          "data": {
            "text/plain": [
              "<Figure size 640x480 with 2 Axes>"
            ],
            "image/png": "[encoded data removed]"
          },
          "metadata": {}
        }
      ]
    },
    {
      "cell_type": "markdown",
      "source": [
        "# Mix-Up Data Augmentation"
      ],
      "metadata": {
        "id": "nk4tnwPz2IKd"
      }
    },
    {
      "cell_type": "code",
      "source": [
        "train_dataset_1 = train_dataset.shuffle(buffer_size=8,reshuffle_each_iteration=True).map(resizing)\n",
        "train_dataset_2 = train_dataset.shuffle(buffer_size=8,reshuffle_each_iteration=True).map(resizing)\n",
        "\n",
        "mixed_dataset=tf.data.Dataset.zip((train_dataset_1,train_dataset_2))"
      ],
      "metadata": {
        "id": "UcIw-q8u4-3G"
      },
      "execution_count": null,
      "outputs": []
    },
    {
      "cell_type": "code",
      "source": [
        "def mix_up(image, label):\n",
        "    alpha = 1.0\n",
        "    beta = 1.0\n",
        "\n",
        "    # Create a new dataset with different shuffling\n",
        "    shuffled_dataset = train_dataset.shuffle(buffer_size=8, reshuffle_each_iteration=True)\n",
        "    it = iter(shuffled_dataset)\n",
        "\n",
        "    # Get two batches from the shuffled dataset\n",
        "    (image_1, label_1) = next(it)\n",
        "    (image_2, label_2) = next(it)\n",
        "\n",
        "    # Cast labels to tf.float32\n",
        "    label_1 = tf.cast(label_1, tf.float32)\n",
        "    label_2 = tf.cast(label_2, tf.float32)\n",
        "\n",
        "    # Mix up the images and labels\n",
        "    mixed_image = alpha * image_1 + (1 - alpha) * image_2\n",
        "    mixed_label = beta * label_1 + (1 - beta) * label_2\n",
        "\n",
        "    return mixed_image, mixed_label\n"
      ],
      "metadata": {
        "id": "Hp7pC-eq2Ku4"
      },
      "execution_count": null,
      "outputs": []
    },
    {
      "cell_type": "code",
      "source": [
        "BATCH_SIZE=32\n",
        "train_dataset=train_dataset.shuffle(buffer_size=8,reshuffle_each_iteration=True).map(mix_up).batch(BATCH_SIZE).prefetch(tf.data.AUTOTUNE)"
      ],
      "metadata": {
        "id": "JEiyIOe_5_ib"
      },
      "execution_count": null,
      "outputs": []
    },
    {
      "cell_type": "markdown",
      "source": [
        "# Resizing of Data"
      ],
      "metadata": {
        "id": "zT2qfbO2LcOs"
      }
    },
    {
      "cell_type": "code",
      "source": [
        "IM_size = 224\n",
        "def resizing(image,label):\n",
        "  # Dividing by 255 for normalization.\n",
        "  return tf.image.resize(image,(IM_size,IM_size))/255, label"
      ],
      "metadata": {
        "id": "Z16Da9qanFNe"
      },
      "execution_count": null,
      "outputs": []
    },
    {
      "cell_type": "code",
      "source": [
        "for image,label in train_dataset.take(1):\n",
        "  print(image,label.numpy())"
      ],
      "metadata": {
        "colab": {
          "base_uri": "https://localhost:8080/"
        },
        "id": "63PnCFPWsUY6",
        "outputId": "65d4aa7b-4c69-4f45-8e47-7b2bcdea9067"
      },
      "execution_count": null,
      "outputs": [
        {
          "output_type": "stream",
          "name": "stdout",
          "text": [
            "tf.Tensor(\n",
            "[[[0 0 0]\n",
            "  [0 0 0]\n",
            "  [0 0 0]\n",
            "  ...\n",
            "  [0 0 0]\n",
            "  [0 0 0]\n",
            "  [0 0 0]]\n",
            "\n",
            " [[0 0 0]\n",
            "  [0 0 0]\n",
            "  [0 0 0]\n",
            "  ...\n",
            "  [0 0 0]\n",
            "  [0 0 0]\n",
            "  [0 0 0]]\n",
            "\n",
            " [[0 0 0]\n",
            "  [0 0 0]\n",
            "  [0 0 0]\n",
            "  ...\n",
            "  [0 0 0]\n",
            "  [0 0 0]\n",
            "  [0 0 0]]\n",
            "\n",
            " ...\n",
            "\n",
            " [[0 0 0]\n",
            "  [0 0 0]\n",
            "  [0 0 0]\n",
            "  ...\n",
            "  [0 0 0]\n",
            "  [0 0 0]\n",
            "  [0 0 0]]\n",
            "\n",
            " [[0 0 0]\n",
            "  [0 0 0]\n",
            "  [0 0 0]\n",
            "  ...\n",
            "  [0 0 0]\n",
            "  [0 0 0]\n",
            "  [0 0 0]]\n",
            "\n",
            " [[0 0 0]\n",
            "  [0 0 0]\n",
            "  [0 0 0]\n",
            "  ...\n",
            "  [0 0 0]\n",
            "  [0 0 0]\n",
            "  [0 0 0]]], shape=(103, 103, 3), dtype=uint8) 1\n"
          ]
        }
      ]
    },
    {
      "cell_type": "code",
      "source": [
        "BATCH_SIZE = 32\n",
        "\n",
        "\n",
        "train_dataset = train_dataset.shuffle(buffer_size=8, reshuffle_each_iteration=True).map(resizing).batch(BATCH_SIZE).prefetch(tf.data.AUTOTUNE)\n",
        "\n",
        "val_dataset = val_dataset.shuffle(buffer_size=8, reshuffle_each_iteration=True).map(resizing).batch(BATCH_SIZE).prefetch(tf.data.AUTOTUNE)\n"
      ],
      "metadata": {
        "id": "UwPXBRxp5-cR"
      },
      "execution_count": null,
      "outputs": []
    },
    {
      "cell_type": "markdown",
      "source": [
        "# Callbacks"
      ],
      "metadata": {
        "id": "pB9otQzVk1U3"
      }
    },
    {
      "cell_type": "code",
      "source": [
        "tensorboard_callback = TensorBoard(\n",
        "    log_dir='logs'\n",
        ")\n",
        "LOG_DIR ='/content/logs'"
      ],
      "metadata": {
        "id": "NPkxIixkhvIf"
      },
      "execution_count": null,
      "outputs": []
    },
    {
      "cell_type": "code",
      "source": [
        "csv_callback=CSVLogger('logs.csv',separator = ',',append=True)"
      ],
      "metadata": {
        "id": "bTnexH8QlBGz"
      },
      "execution_count": null,
      "outputs": []
    },
    {
      "cell_type": "code",
      "source": [
        "es_callback=EarlyStopping(\n",
        "    monitor='val_loss',\n",
        "    min_delta=0,\n",
        "    patience=2,\n",
        "    verbose=1,\n",
        "    mode='auto',\n",
        "    baseline=None,\n",
        "    restore_best_weights=False,\n",
        "\n",
        ")"
      ],
      "metadata": {
        "id": "JmYjPrIm2A8Q"
      },
      "execution_count": null,
      "outputs": []
    },
    {
      "cell_type": "markdown",
      "source": [
        "# Model Creation and Training"
      ],
      "metadata": {
        "id": "SgYbiNWXj5Fq"
      }
    },
    {
      "cell_type": "code",
      "source": [
        "\n",
        "\n",
        "IM_size = 224\n",
        "\n",
        "dropout_rate = 0.3\n",
        "regularization_rate = 0.01\n",
        "\n",
        "# Data augmentation layers\n",
        "augment_layers = tf.keras.Sequential([\n",
        "    RandomRotation(factor=(0.25, 0.2501)),\n",
        "    RandomFlip(mode='horizontal'),\n",
        "    RandomContrast(factor=0.1)\n",
        "])\n",
        "\n",
        "# Resizing and Rescaling layers\n",
        "resize_rescale_layers = tf.keras.Sequential([\n",
        "    Resizing(IM_size, IM_size),\n",
        "    Rescaling(1.0 / 255)\n",
        "])\n",
        "\n",
        "lenet_model = tf.keras.Sequential([\n",
        "    InputLayer(input_shape=(None, None, 3)),\n",
        "    resize_rescale_layers,\n",
        "    augment_layers,\n",
        "    Conv2D(filters=6, kernel_size=3, strides=1, padding='valid', activation='relu', kernel_regularizer=L2(regularization_rate)),\n",
        "    BatchNormalization(),\n",
        "    MaxPool2D(pool_size=2, strides=2),\n",
        "    Dropout(rate=dropout_rate),\n",
        "\n",
        "    Conv2D(filters=16, kernel_size=3, strides=1, padding='valid', activation='relu', kernel_regularizer=L2(regularization_rate)),\n",
        "    BatchNormalization(),\n",
        "    MaxPool2D(pool_size=2, strides=2),\n",
        "\n",
        "    Flatten(),\n",
        "\n",
        "    Dense(100, activation='relu', kernel_regularizer=L2(regularization_rate)),\n",
        "    BatchNormalization(),\n",
        "    Dropout(rate=dropout_rate),\n",
        "\n",
        "    Dense(10, activation='relu', kernel_regularizer=L2(regularization_rate)),\n",
        "    BatchNormalization(),\n",
        "\n",
        "    Dense(1, activation='sigmoid')\n",
        "])\n",
        "\n",
        "lenet_model.summary()\n"
      ],
      "metadata": {
        "id": "VmSMBHb4sZ4C"
      },
      "execution_count": null,
      "outputs": []
    },
    {
      "cell_type": "code",
      "source": [
        "\n",
        "metrics = [BinaryAccuracy(name='accuracy'),TruePositives(name='TP'),FalsePositives(name='FP'),TrueNegatives(name='TN'),FalseNegatives(name='FN'),Precision(name='precision'),Recall(name='recall'),AUC(name='AuC')]"
      ],
      "metadata": {
        "id": "GvISsXeCSYsG"
      },
      "execution_count": null,
      "outputs": []
    },
    {
      "cell_type": "code",
      "source": [
        "\n",
        "binary_crossentropy_loss = BinaryCrossentropy()\n",
        "\n",
        "lenet_model.compile(optimizer=Adam(learning_rate=0.01), loss=binary_crossentropy_loss,metrics=metrics)"
      ],
      "metadata": {
        "id": "a7yi7qygvqfy"
      },
      "execution_count": null,
      "outputs": []
    },
    {
      "cell_type": "code",
      "source": [
        "train_dataset"
      ],
      "metadata": {
        "colab": {
          "base_uri": "https://localhost:8080/"
        },
        "id": "cL_Y9SeJqhUz",
        "outputId": "59855875-4eb3-4720-9c43-68cdb3f68243"
      },
      "execution_count": null,
      "outputs": [
        {
          "output_type": "execute_result",
          "data": {
            "text/plain": [
              "<_PrefetchDataset element_spec=(TensorSpec(shape=(None, None, None, 3), dtype=tf.uint8, name=None), TensorSpec(shape=(None,), dtype=tf.int64, name=None))>"
            ]
          },
          "metadata": {},
          "execution_count": 23
        }
      ]
    },
    {
      "cell_type": "code",
      "source": [
        "val_dataset"
      ],
      "metadata": {
        "colab": {
          "base_uri": "https://localhost:8080/"
        },
        "id": "mFhizsXMqmSS",
        "outputId": "069e056d-6df3-4368-b21b-26fc8b83d421"
      },
      "execution_count": null,
      "outputs": [
        {
          "output_type": "execute_result",
          "data": {
            "text/plain": [
              "<_PrefetchDataset element_spec=(TensorSpec(shape=(None, None, None, 3), dtype=tf.uint8, name=None), TensorSpec(shape=(None,), dtype=tf.int64, name=None))>"
            ]
          },
          "metadata": {},
          "execution_count": 24
        }
      ]
    },
    {
      "cell_type": "code",
      "source": [
        "test_dataset"
      ],
      "metadata": {
        "colab": {
          "base_uri": "https://localhost:8080/"
        },
        "id": "gyWbLLdwqm3j",
        "outputId": "522db814-5592-4798-9a96-cf61ddd5b036"
      },
      "execution_count": null,
      "outputs": [
        {
          "output_type": "execute_result",
          "data": {
            "text/plain": [
              "<_SkipDataset element_spec=(TensorSpec(shape=(None, None, 3), dtype=tf.uint8, name=None), TensorSpec(shape=(), dtype=tf.int64, name=None))>"
            ]
          },
          "metadata": {},
          "execution_count": 25
        }
      ]
    },
    {
      "cell_type": "code",
      "source": [
        "history=lenet_model.fit(train_dataset,validation_data=val_dataset,epochs=6,verbose= 1 ,callbacks = [tensorboard_callback])"
      ],
      "metadata": {
        "colab": {
          "base_uri": "https://localhost:8080/"
        },
        "id": "EuGp04w_zK9r",
        "outputId": "ba2e0d4b-3007-41eb-802d-84b43fa9350f"
      },
      "execution_count": null,
      "outputs": [
        {
          "output_type": "stream",
          "name": "stdout",
          "text": [
            "Epoch 1/6\n",
            "689/689 [==============================] - 63s 67ms/step - loss: 3.7644 - accuracy: 0.6385 - TP: 7138.0000 - FP: 4084.0000 - TN: 6938.0000 - FN: 3886.0000 - precision: 0.6361 - recall: 0.6475 - AuC: 0.6839 - val_loss: 2.6724 - val_accuracy: 0.5034 - val_TP: 1387.0000 - val_FP: 1368.0000 - val_TN: 0.0000e+00 - val_FN: 0.0000e+00 - val_precision: 0.5034 - val_recall: 1.0000 - val_AuC: 0.6900\n",
            "Epoch 2/6\n",
            "689/689 [==============================] - 61s 88ms/step - loss: 3.0594 - accuracy: 0.6603 - TP: 7492.0000 - FP: 3955.0000 - TN: 7066.0000 - FN: 3533.0000 - precision: 0.6545 - recall: 0.6795 - AuC: 0.7103 - val_loss: 13.1948 - val_accuracy: 0.5053 - val_TP: 1392.0000 - val_FP: 1363.0000 - val_TN: 0.0000e+00 - val_FN: 0.0000e+00 - val_precision: 0.5053 - val_recall: 1.0000 - val_AuC: 0.5004\n",
            "Epoch 3/6\n",
            "689/689 [==============================] - 44s 63ms/step - loss: 2.2311 - accuracy: 0.8297 - TP: 9532.0000 - FP: 2263.0000 - TN: 8760.0000 - FN: 1491.0000 - precision: 0.8081 - recall: 0.8647 - AuC: 0.8813 - val_loss: 1.9308 - val_accuracy: 0.4951 - val_TP: 0.0000e+00 - val_FP: 0.0000e+00 - val_TN: 1364.0000 - val_FN: 1391.0000 - val_precision: 0.0000e+00 - val_recall: 0.0000e+00 - val_AuC: 0.5000\n",
            "Epoch 4/6\n",
            "689/689 [==============================] - 44s 64ms/step - loss: 2.0965 - accuracy: 0.8937 - TP: 10341.0000 - FP: 1663.0000 - TN: 9361.0000 - FN: 681.0000 - precision: 0.8615 - recall: 0.9382 - AuC: 0.9217 - val_loss: 3.1504 - val_accuracy: 0.7466 - val_TP: 1378.0000 - val_FP: 678.0000 - val_TN: 679.0000 - val_FN: 20.0000 - val_precision: 0.6702 - val_recall: 0.9857 - val_AuC: 0.8496\n",
            "Epoch 5/6\n",
            "689/689 [==============================] - 44s 64ms/step - loss: 1.5354 - accuracy: 0.8934 - TP: 10343.0000 - FP: 1667.0000 - TN: 9352.0000 - FN: 684.0000 - precision: 0.8612 - recall: 0.9380 - AuC: 0.9192 - val_loss: 1.1668 - val_accuracy: 0.9005 - val_TP: 1343.0000 - val_FP: 224.0000 - val_TN: 1138.0000 - val_FN: 50.0000 - val_precision: 0.8571 - val_recall: 0.9641 - val_AuC: 0.9437\n",
            "Epoch 6/6\n",
            "689/689 [==============================] - 54s 79ms/step - loss: 2.0625 - accuracy: 0.8879 - TP: 10240.0000 - FP: 1689.0000 - TN: 9334.0000 - FN: 783.0000 - precision: 0.8584 - recall: 0.9290 - AuC: 0.9223 - val_loss: 5.9385 - val_accuracy: 0.5154 - val_TP: 1390.0000 - val_FP: 1331.0000 - val_TN: 30.0000 - val_FN: 4.0000 - val_precision: 0.5108 - val_recall: 0.9971 - val_AuC: 0.5810\n"
          ]
        }
      ]
    },
    {
      "cell_type": "code",
      "source": [
        "lenet_model.save_weights('weights_5.h5')"
      ],
      "metadata": {
        "id": "vTOighUjWmRd"
      },
      "execution_count": null,
      "outputs": []
    },
    {
      "cell_type": "markdown",
      "source": [
        "# TensorBoard"
      ],
      "metadata": {
        "id": "LA-RECBjqE4u"
      }
    },
    {
      "cell_type": "code",
      "source": [
        "%reload_ext tensorboard"
      ],
      "metadata": {
        "id": "XMnGGjP-rHUW"
      },
      "execution_count": null,
      "outputs": []
    },
    {
      "cell_type": "code",
      "source": [
        "%load_ext tensorboard"
      ],
      "metadata": {
        "id": "wi0qNFfNriP2"
      },
      "execution_count": null,
      "outputs": []
    },
    {
      "cell_type": "code",
      "source": [
        "%tensorboard --logdir=\"logs\""
      ],
      "metadata": {
        "id": "Rgqa_2Ajpm-O"
      },
      "execution_count": null,
      "outputs": []
    },
    {
      "cell_type": "markdown",
      "source": [
        "# Hyperparameter Tuning using TensorBoard"
      ],
      "metadata": {
        "id": "CAions3YztgG"
      }
    },
    {
      "cell_type": "code",
      "source": [
        "IM_SIZE = 224\n",
        "\n",
        "# Data augmentation layers\n",
        "augment_layers = tf.keras.Sequential([\n",
        "    RandomRotation(factor=(0.25, 0.2501)),\n",
        "    RandomFlip(mode='horizontal'),\n",
        "    RandomContrast(factor=0.1)\n",
        "])\n",
        "\n",
        "# Resizing and Rescaling layers\n",
        "resize_rescale_layers = tf.keras.Sequential([\n",
        "    Resizing(IM_size, IM_size),\n",
        "    Rescaling(1.0 / 255)\n",
        "])\n",
        "def model_tune(hparams):\n",
        "  lenet_model = tf.keras.Sequential([\n",
        "    InputLayer(input_shape = (IM_SIZE, IM_SIZE, 3)),\n",
        "\n",
        "    Conv2D(filters = 6, kernel_size = 3, strides=1, padding='valid',\n",
        "          activation = 'relu',kernel_regularizer = L2(hparams[HP_REGULARIZATION_RATE])),\n",
        "    BatchNormalization(),\n",
        "    MaxPool2D (pool_size = 2, strides= 2),\n",
        "    Dropout(rate = hparams[HP_DROPOUT]),\n",
        "\n",
        "    Conv2D(filters = 16, kernel_size = 3, strides=1, padding='valid',\n",
        "          activation = 'relu', kernel_regularizer = L2(hparams[HP_REGULARIZATION_RATE])),\n",
        "    BatchNormalization(),\n",
        "    MaxPool2D (pool_size = 2, strides= 2),\n",
        "\n",
        "    Flatten(),\n",
        "\n",
        "    Dense( hparams[HP_NUM_UNITS_1], activation = \"relu\", kernel_regularizer = L2(hparams[HP_REGULARIZATION_RATE])),\n",
        "    BatchNormalization(),\n",
        "    Dropout(rate = hparams[HP_DROPOUT]),\n",
        "\n",
        "    Dense(hparams[HP_NUM_UNITS_2], activation = \"relu\", kernel_regularizer = L2(hparams[HP_REGULARIZATION_RATE])),\n",
        "    BatchNormalization(),\n",
        "\n",
        "    Dense(1, activation = \"sigmoid\"),\n",
        "  ])\n",
        "\n",
        "  lenet_model.compile(\n",
        "        optimizer= Adam(learning_rate = hparams[HP_LEARNING_RATE]),\n",
        "        loss='binary_crossentropy',\n",
        "        metrics=['accuracy'],\n",
        "    )\n",
        "\n",
        "  lenet_model.fit(val_dataset, epochs=1)\n",
        "  _, accuracy = lenet_model.evaluate(val_dataset)\n",
        "  return accuracy\n",
        "\n"
      ],
      "metadata": {
        "id": "UWz5i_cwzzU4"
      },
      "execution_count": null,
      "outputs": []
    },
    {
      "cell_type": "code",
      "source": [
        "HP_NUM_UNITS_1 = hp.HParam('num_units_1', hp.Discrete([16,32,64,128]))\n",
        "HP_NUM_UNITS_2 = hp.HParam('num_units_2', hp.Discrete([16,32,64,128]))\n",
        "HP_DROPOUT = hp.HParam('dropout_rate', hp.Discrete([0.1,0.2,0.3]))\n",
        "HP_REGULARIZATION_RATE = hp.HParam('regularization_rate', hp.Discrete([0.001,0.01,0.1]))\n",
        "HP_LEARNING_RATE = hp.HParam('learning_rate', hp.Discrete([1e-4, 1e-3]))"
      ],
      "metadata": {
        "id": "Eh9mm9grz38-"
      },
      "execution_count": null,
      "outputs": []
    },
    {
      "cell_type": "code",
      "source": [
        "run_number = 0\n",
        "for num_units_1 in HP_NUM_UNITS_1.domain.values:\n",
        "  for num_units_2 in HP_NUM_UNITS_2.domain.values:\n",
        "    for dropout_rate in HP_DROPOUT.domain.values:\n",
        "      for regularization_rate in HP_REGULARIZATION_RATE.domain.values:\n",
        "        for learning_rate in HP_LEARNING_RATE.domain.values:\n",
        "\n",
        "          hparams = {\n",
        "              HP_NUM_UNITS_1: num_units_1,\n",
        "              HP_NUM_UNITS_2: num_units_2,\n",
        "              HP_DROPOUT: dropout_rate,\n",
        "              HP_REGULARIZATION_RATE: regularization_rate,\n",
        "              HP_LEARNING_RATE: learning_rate,\n",
        "\n",
        "          }\n",
        "          file_writer = tf.summary.create_file_writer('logs/hparams-' + str(run_number))\n",
        "\n",
        "          with file_writer.as_default():\n",
        "              hp.hparams(hparams)\n",
        "              accuracy = model_tune(hparams)\n",
        "              tf.summary.scalar('accuracy', accuracy, step = 0)\n",
        "          print(\"For the run {}, hparams num_units_1:{}, num_units_2:{}, dropout:{}, regularization_rate:{}, learning_rate:{}\".format(run_number, hparams[HP_NUM_UNITS_1], hparams[HP_NUM_UNITS_2],\n",
        "                                                             hparams[HP_DROPOUT], hparams[HP_REGULARIZATION_RATE],\n",
        "                                                             hparams[HP_LEARNING_RATE]))\n",
        "          run_number += 1\n"
      ],
      "metadata": {
        "id": "LYktOm4Rz4GP"
      },
      "execution_count": null,
      "outputs": []
    },
    {
      "cell_type": "markdown",
      "source": [
        "# Model Evaluation"
      ],
      "metadata": {
        "id": "NNmdtne6LSKZ"
      }
    },
    {
      "cell_type": "code",
      "source": [
        "plt.plot(history.history['loss'])\n",
        "plt.plot(history.history['val_loss'])\n",
        "plt.title('Model loss')\n",
        "plt.ylabel('loss')\n",
        "plt.xlabel('epochs')\n",
        "plt.legend(['train_loss','val_loss'])\n",
        "plt.show()"
      ],
      "metadata": {
        "id": "z_HmVHsWz6qz",
        "colab": {
          "base_uri": "https://localhost:8080/",
          "height": 472
        },
        "outputId": "16f4a872-5254-4aa7-fbfa-b28e4c0d6c37"
      },
      "execution_count": null,
      "outputs": [
        {
          "output_type": "display_data",
          "data": {
            "text/plain": [
              "<Figure size 640x480 with 1 Axes>"
            ],
            "image/png": "[encoded data removed]"
          },
          "metadata": {}
        }
      ]
    },
    {
      "cell_type": "code",
      "source": [
        "plt.plot(history.history['accuracy'])\n",
        "plt.plot(history.history['val_accuracy'])\n",
        "plt.title('Model loss')\n",
        "plt.ylabel('accuracy')\n",
        "plt.xlabel('epochs')\n",
        "plt.legend(['train_accuracy','val_accuracy'])\n",
        "plt.show()"
      ],
      "metadata": {
        "colab": {
          "base_uri": "https://localhost:8080/",
          "height": 472
        },
        "id": "N_0OnumWD8dC",
        "outputId": "b4f4d0da-a55b-4083-f2a6-3a452ab8255a"
      },
      "execution_count": null,
      "outputs": [
        {
          "output_type": "display_data",
          "data": {
            "text/plain": [
              "<Figure size 640x480 with 1 Axes>"
            ],
            "image/png": "[encoded data removed]"
          },
          "metadata": {}
        }
      ]
    },
    {
      "cell_type": "code",
      "source": [
        "test_dataset=test_dataset.batch(1)"
      ],
      "metadata": {
        "id": "urNkr30lJHLp"
      },
      "execution_count": null,
      "outputs": []
    },
    {
      "cell_type": "code",
      "source": [
        "lenet_model.evaluate(test_dataset)"
      ],
      "metadata": {
        "colab": {
          "base_uri": "https://localhost:8080/"
        },
        "id": "c6KvxMyMzYao",
        "outputId": "9b439bc4-aa61-4acd-febf-01a9adeb848a"
      },
      "execution_count": null,
      "outputs": [
        {
          "output_type": "stream",
          "name": "stdout",
          "text": [
            "2757/2757 [==============================] - 25s 5ms/step - loss: 2.6462 - accuracy: 0.5125 - TP: 48.0000 - FP: 28.0000 - TN: 1365.0000 - FN: 1316.0000 - precision: 0.6316 - recall: 0.0352 - AuC: 0.6900\n"
          ]
        },
        {
          "output_type": "execute_result",
          "data": {
            "text/plain": [
              "[2.6462223529815674,\n",
              " 0.5125135779380798,\n",
              " 48.0,\n",
              " 28.0,\n",
              " 1365.0,\n",
              " 1316.0,\n",
              " 0.6315789222717285,\n",
              " 0.03519061580300331,\n",
              " 0.6900400519371033]"
            ]
          },
          "metadata": {},
          "execution_count": 32
        }
      ]
    },
    {
      "cell_type": "code",
      "source": [
        "image=cv2.imread('cell.png')\n",
        "print(image.shape)\n",
        "image=tf.expand_dims(image,axis=0)\n",
        "print(image.shape)\n",
        "\n",
        "parasite_or_not(lenet_model.predict(image))"
      ],
      "metadata": {
        "colab": {
          "base_uri": "https://localhost:8080/",
          "height": 88
        },
        "id": "v3nC7QwGxNiT",
        "outputId": "d30ca5c0-e2ae-4b00-a777-4de08af9d185"
      },
      "execution_count": null,
      "outputs": [
        {
          "output_type": "stream",
          "name": "stdout",
          "text": [
            "(210, 212, 3)\n",
            "(1, 210, 212, 3)\n",
            "1/1 [==============================] - 0s 17ms/step\n"
          ]
        },
        {
          "output_type": "execute_result",
          "data": {
            "text/plain": [
              "'Parasite'"
            ],
            "application/vnd.google.colaboratory.intrinsic+json": {
              "type": "string"
            }
          },
          "metadata": {},
          "execution_count": 39
        }
      ]
    },
    {
      "cell_type": "markdown",
      "source": [
        "# Threshold Experimenting"
      ],
      "metadata": {
        "id": "XBF5O7tyg1jG"
      }
    },
    {
      "cell_type": "code",
      "source": [
        "from sklearn.metrics import confusion_matrix,roc_curve\n",
        "labels = []\n",
        "inp = []\n",
        "for x,y in test_dataset.as_numpy_iterator():\n",
        "  labels.append(y)\n",
        "  inp.append(x)"
      ],
      "metadata": {
        "id": "piOm7JqhdelP"
      },
      "execution_count": null,
      "outputs": []
    },
    {
      "cell_type": "code",
      "source": [
        "labels = np.array(i[0] for i in labels)"
      ],
      "metadata": {
        "id": "TdyZUBs1d3vF"
      },
      "execution_count": null,
      "outputs": []
    },
    {
      "cell_type": "code",
      "source": [
        "predicted=lenet_model.predict(np.array(inp)[:,0,...])"
      ],
      "metadata": {
        "colab": {
          "base_uri": "https://localhost:8080/"
        },
        "id": "4JUyu9aBeKK_",
        "outputId": "78d581aa-db03-453a-bcd7-a761b4cc9561"
      },
      "execution_count": null,
      "outputs": [
        {
          "output_type": "stream",
          "name": "stdout",
          "text": [
            "87/87 [==============================] - 1s 13ms/step\n"
          ]
        }
      ]
    },
    {
      "cell_type": "code",
      "source": [
        "predicted=predicted[:,0]"
      ],
      "metadata": {
        "id": "-yD5PPPffFt3"
      },
      "execution_count": null,
      "outputs": []
    },
    {
      "cell_type": "code",
      "source": [
        "CM=confusion_matrix(labels,predicted>0.52)\n",
        "plt.figure(figsize=(8,8))\n",
        "sns.heatmap(CM,annot=True)\n",
        "plt.title('Confusion Matrix')\n",
        "plt.ylabel('Actual')\n",
        "plt.xlabel('Predicted')"
      ],
      "metadata": {
        "colab": {
          "base_uri": "https://localhost:8080/",
          "height": 735
        },
        "id": "XeRGv6zRfS_-",
        "outputId": "22f41859-6970-4ffc-fc59-22412458209b"
      },
      "execution_count": null,
      "outputs": [
        {
          "output_type": "execute_result",
          "data": {
            "text/plain": [
              "Text(0.5, 58.7222222222222, 'Predicted')"
            ]
          },
          "metadata": {},
          "execution_count": 50
        },
        {
          "output_type": "display_data",
          "data": {
            "text/plain": [
              "<Figure size 800x800 with 2 Axes>"
            ],
            "image/png": "[encoded data removed]"
          },
          "metadata": {}
        }
      ]
    },
    {
      "cell_type": "code",
      "source": [
        "fp,tp,threshold = roc_curve(labels,predicted)\n",
        "plt.plot(fp, tp)\n",
        "plt.xlabel(\"False Positive Rate\")\n",
        "plt.ylabel(\"True Positive Rate\")\n",
        "plt.grid()\n",
        "\n",
        "skip = 60\n",
        "\n",
        "for i in range(0,len(threshold),skip):\n",
        "  plt.text(fp[i],tp[i],threshold[i])\n",
        "plt.show()"
      ],
      "metadata": {
        "colab": {
          "base_uri": "https://localhost:8080/",
          "height": 449
        },
        "id": "Ystm1dikg0Bh",
        "outputId": "17a5962d-7951-44e1-9c80-1c7674d0ba35"
      },
      "execution_count": null,
      "outputs": [
        {
          "output_type": "display_data",
          "data": {
            "text/plain": [
              "<Figure size 640x480 with 1 Axes>"
            ],
            "image/png": "[encoded data removed]"
          },
          "metadata": {}
        }
      ]
    },
    {
      "cell_type": "code",
      "source": [
        "from sklearn.metrics import roc_curve, auc\n",
        "import matplotlib.pyplot as plt\n",
        "\n",
        "# Assuming labels and predicted are your true labels and predicted scores\n",
        "fpr, tpr, thresholds = roc_curve(labels, predicted)\n",
        "roc_auc = auc(fpr, tpr)\n",
        "\n",
        "# Plot the ROC curve\n",
        "plt.figure(figsize=(8, 8))\n",
        "plt.plot(fpr, tpr, color='darkorange', lw=2, label=f'ROC curve (area = {roc_auc:.2f})')\n",
        "plt.plot([0, 1], [0, 1], color='navy', lw=2, linestyle='--')\n",
        "plt.xlabel('False Positive Rate')\n",
        "plt.ylabel('True Positive Rate')\n",
        "plt.title('Receiver Operating Characteristic (ROC) Curve')\n",
        "plt.legend(loc='lower right')\n",
        "\n",
        "skip = 60\n",
        "\n",
        "for i in range(0,len(thresholds),skip):\n",
        "  plt.text(fp[i],tp[i],thresholds[i])\n",
        "plt.show()\n"
      ],
      "metadata": {
        "colab": {
          "base_uri": "https://localhost:8080/",
          "height": 718
        },
        "id": "nrTzNPoXidPw",
        "outputId": "abe8a896-84cd-4472-cebd-c5125bcbf464"
      },
      "execution_count": null,
      "outputs": [
        {
          "output_type": "display_data",
          "data": {
            "text/plain": [
              "<Figure size 800x800 with 1 Axes>"
            ],
            "image/png": "[encoded data removed]"
          },
          "metadata": {}
        }
      ]
    },
    {
      "cell_type": "code",
      "source": [
        "def parasite_or_not(x):\n",
        "  if (x>0.5):\n",
        "    return str('Uneffected')\n",
        "  else:\n",
        "    return str('Parasite')"
      ],
      "metadata": {
        "id": "eyK0LiBS6eh1"
      },
      "execution_count": null,
      "outputs": []
    },
    {
      "cell_type": "code",
      "source": [
        "parasite_or_not(lenet_model.predict(test_dataset.take(1))[0][0])"
      ],
      "metadata": {
        "id": "GQ21o0OV5cR8"
      },
      "execution_count": null,
      "outputs": []
    },
    {
      "cell_type": "code",
      "source": [
        "for i, (image,label) in enumerate(test_dataset.take(9)):\n",
        "  ax = plt.subplot(3,3,i+1)\n",
        "  plt.imshow(image[0])\n",
        "  plt.title(str(parasite_or_not(label.numpy()[0])+\" - \"+ str(parasite_or_not(lenet_model.predict(image)[0][0]))))\n",
        "  plt.axis=('off')"
      ],
      "metadata": {
        "colab": {
          "base_uri": "https://localhost:8080/",
          "height": 608
        },
        "id": "bIbGCINX6pXl",
        "outputId": "a7c11a12-e925-4259-992d-196ee61dd757"
      },
      "execution_count": null,
      "outputs": [
        {
          "output_type": "stream",
          "name": "stdout",
          "text": [
            "1/1 [==============================] - 0s 212ms/step\n",
            "1/1 [==============================] - 0s 19ms/step\n",
            "1/1 [==============================] - 0s 17ms/step\n",
            "1/1 [==============================] - 0s 19ms/step\n",
            "1/1 [==============================] - 0s 17ms/step\n",
            "1/1 [==============================] - 0s 18ms/step\n",
            "1/1 [==============================] - 0s 92ms/step\n",
            "1/1 [==============================] - 0s 30ms/step\n",
            "1/1 [==============================] - 0s 19ms/step\n"
          ]
        },
        {
          "output_type": "display_data",
          "data": {
            "text/plain": [
              "<Figure size 640x480 with 9 Axes>"
            ],
            "image/png": "[encoded data removed]"
          },
          "metadata": {}
        }
      ]
    },
    {
      "cell_type": "code",
      "source": [
        "from google.colab import files\n",
        "\n",
        "# Download the saved model file\n",
        "files.download('model_weights.h5')  # Replace with your file name\n"
      ],
      "metadata": {
        "colab": {
          "base_uri": "https://localhost:8080/",
          "height": 17
        },
        "id": "TeXM5jD_BZ_F",
        "outputId": "d4d46443-63e2-4d31-caf4-ff2d824f66e5"
      },
      "execution_count": null,
      "outputs": [
        {
          "output_type": "display_data",
          "data": {
            "text/plain": [
              "<IPython.core.display.Javascript object>"
            ],
            "application/javascript": [
              "\n",
              "    async function download(id, filename, size) {\n",
              "      if (!google.colab.kernel.accessAllowed) {\n",
              "        return;\n",
              "      }\n",
              "      const div = document.createElement('div');\n",
              "      const label = document.createElement('label');\n",
              "      label.textContent = `Downloading \"${filename}\": `;\n",
              "      div.appendChild(label);\n",
              "      const progress = document.createElement('progress');\n",
              "      progress.max = size;\n",
              "      div.appendChild(progress);\n",
              "      document.body.appendChild(div);\n",
              "\n",
              "      const buffers = [];\n",
              "      let downloaded = 0;\n",
              "\n",
              "      const channel = await google.colab.kernel.comms.open(id);\n",
              "      // Send a message to notify the kernel that we're ready.\n",
              "      channel.send({})\n",
              "\n",
              "      for await (const message of channel.messages) {\n",
              "        // Send a message to notify the kernel that we're ready.\n",
              "        channel.send({})\n",
              "        if (message.buffers) {\n",
              "          for (const buffer of message.buffers) {\n",
              "            buffers.push(buffer);\n",
              "            downloaded += buffer.byteLength;\n",
              "            progress.value = downloaded;\n",
              "          }\n",
              "        }\n",
              "      }\n",
              "      const blob = new Blob(buffers, {type: 'application/binary'});\n",
              "      const a = document.createElement('a');\n",
              "      a.href = window.URL.createObjectURL(blob);\n",
              "      a.download = filename;\n",
              "      div.appendChild(a);\n",
              "      a.click();\n",
              "      div.remove();\n",
              "    }\n",
              "  "
            ]
          },
          "metadata": {}
        },
        {
          "output_type": "display_data",
          "data": {
            "text/plain": [
              "<IPython.core.display.Javascript object>"
            ],
            "application/javascript": [
              "download(\"download_2458af43-8019-416d-a4dd-c642aa2d70c8\", \"model_weights.h5\", 18710832)"
            ]
          },
          "metadata": {}
        }
      ]
    },
    {
      "cell_type": "markdown",
      "source": [
        "# Functional API\n"
      ],
      "metadata": {
        "id": "ej_jnGWRDMTY"
      }
    },
    {
      "cell_type": "code",
      "source": [
        "from tensorflow.keras.layers import Input\n",
        "from tensorflow.keras import Model\n",
        "func_input= Input(shape=(IM_size,IM_size,3))\n",
        "\n",
        "x = Conv2D(filters=6,kernel_size=3,strides=1,padding='valid',activation='relu')(func_input)\n",
        "x = BatchNormalization()(x)\n",
        "x = MaxPool2D(pool_size=2,strides=2)(x)\n",
        "\n",
        "x = Conv2D(filters=16,kernel_size=3,strides=1,padding='valid',activation='relu')(x)\n",
        "x = BatchNormalization()(x)\n",
        "x = MaxPool2D(pool_size=2,strides=2)(x)\n",
        "\n",
        "x = Flatten()(x)\n",
        "\n",
        "x = Dense(100,activation='relu')(x)\n",
        "x = BatchNormalization()(x)\n",
        "\n",
        "x = Dense(10,activation='relu')(x)\n",
        "x = BatchNormalization()(x)\n",
        "\n",
        "func_output = Dense(1,activation='sigmoid')(x)\n",
        "lenet_model_func=Model(func_input,func_output,name = 'Lenet Model Functional')\n",
        "lenet_model_func.summary()"
      ],
      "metadata": {
        "colab": {
          "base_uri": "https://localhost:8080/"
        },
        "id": "c_qRQ3NvC-Mu",
        "outputId": "7276cf74-9257-453a-9011-8fb385525302"
      },
      "execution_count": null,
      "outputs": [
        {
          "output_type": "stream",
          "name": "stdout",
          "text": [
            "Model: \"Lenet Model Functional\"\n",
            "_________________________________________________________________\n",
            " Layer (type)                Output Shape              Param #   \n",
            "=================================================================\n",
            " input_7 (InputLayer)        [(None, 224, 224, 3)]     0         \n",
            "                                                                 \n",
            " conv2d_12 (Conv2D)          (None, 222, 222, 6)       168       \n",
            "                                                                 \n",
            " batch_normalization_24 (Ba  (None, 222, 222, 6)       24        \n",
            " tchNormalization)                                               \n",
            "                                                                 \n",
            " max_pooling2d_12 (MaxPooli  (None, 111, 111, 6)       0         \n",
            " ng2D)                                                           \n",
            "                                                                 \n",
            " conv2d_13 (Conv2D)          (None, 109, 109, 16)      880       \n",
            "                                                                 \n",
            " batch_normalization_25 (Ba  (None, 109, 109, 16)      64        \n",
            " tchNormalization)                                               \n",
            "                                                                 \n",
            " max_pooling2d_13 (MaxPooli  (None, 54, 54, 16)        0         \n",
            " ng2D)                                                           \n",
            "                                                                 \n",
            " flatten_6 (Flatten)         (None, 46656)             0         \n",
            "                                                                 \n",
            " dense_18 (Dense)            (None, 100)               4665700   \n",
            "                                                                 \n",
            " batch_normalization_26 (Ba  (None, 100)               400       \n",
            " tchNormalization)                                               \n",
            "                                                                 \n",
            " dense_19 (Dense)            (None, 10)                1010      \n",
            "                                                                 \n",
            " batch_normalization_27 (Ba  (None, 10)                40        \n",
            " tchNormalization)                                               \n",
            "                                                                 \n",
            " dense_20 (Dense)            (None, 1)                 11        \n",
            "                                                                 \n",
            "=================================================================\n",
            "Total params: 4668297 (17.81 MB)\n",
            "Trainable params: 4668033 (17.81 MB)\n",
            "Non-trainable params: 264 (1.03 KB)\n",
            "_________________________________________________________________\n"
          ]
        }
      ]
    },
    {
      "cell_type": "code",
      "source": [],
      "metadata": {
        "id": "0Mu3srIwVy_x"
      },
      "execution_count": null,
      "outputs": []
    },
    {
      "cell_type": "markdown",
      "source": [
        "# WandB"
      ],
      "metadata": {
        "id": "-rNsAjSOV0Hg"
      }
    },
    {
      "cell_type": "code",
      "source": [
        "!pip install wandb\n",
        "!wandb login"
      ],
      "metadata": {
        "colab": {
          "base_uri": "https://localhost:8080/"
        },
        "id": "5i03SVpoV2zJ",
        "outputId": "557c3051-8079-406e-a9b2-6d9b6a8e61c5"
      },
      "execution_count": null,
      "outputs": [
        {
          "output_type": "stream",
          "name": "stdout",
          "text": [
            "Requirement already satisfied: wandb in /usr/local/lib/python3.10/dist-packages (0.16.2)\n",
            "Requirement already satisfied: Click!=8.0.0,>=7.1 in /usr/local/lib/python3.10/dist-packages (from wandb) (8.1.7)\n",
            "Requirement already satisfied: GitPython!=3.1.29,>=1.0.0 in /usr/local/lib/python3.10/dist-packages (from wandb) (3.1.41)\n",
            "Requirement already satisfied: requests<3,>=2.0.0 in /usr/local/lib/python3.10/dist-packages (from wandb) (2.31.0)\n",
            "Requirement already satisfied: psutil>=5.0.0 in /usr/local/lib/python3.10/dist-packages (from wandb) (5.9.5)\n",
            "Requirement already satisfied: sentry-sdk>=1.0.0 in /usr/local/lib/python3.10/dist-packages (from wandb) (1.40.0)\n",
            "Requirement already satisfied: docker-pycreds>=0.4.0 in /usr/local/lib/python3.10/dist-packages (from wandb) (0.4.0)\n",
            "Requirement already satisfied: PyYAML in /usr/local/lib/python3.10/dist-packages (from wandb) (6.0.1)\n",
            "Requirement already satisfied: setproctitle in /usr/local/lib/python3.10/dist-packages (from wandb) (1.3.3)\n",
            "Requirement already satisfied: setuptools in /usr/local/lib/python3.10/dist-packages (from wandb) (67.7.2)\n",
            "Requirement already satisfied: appdirs>=1.4.3 in /usr/local/lib/python3.10/dist-packages (from wandb) (1.4.4)\n",
            "Requirement already satisfied: protobuf!=4.21.0,<5,>=3.19.0 in /usr/local/lib/python3.10/dist-packages (from wandb) (3.20.3)\n",
            "Requirement already satisfied: six>=1.4.0 in /usr/local/lib/python3.10/dist-packages (from docker-pycreds>=0.4.0->wandb) (1.16.0)\n",
            "Requirement already satisfied: gitdb<5,>=4.0.1 in /usr/local/lib/python3.10/dist-packages (from GitPython!=3.1.29,>=1.0.0->wandb) (4.0.11)\n",
            "Requirement already satisfied: charset-normalizer<4,>=2 in /usr/local/lib/python3.10/dist-packages (from requests<3,>=2.0.0->wandb) (3.3.2)\n",
            "Requirement already satisfied: idna<4,>=2.5 in /usr/local/lib/python3.10/dist-packages (from requests<3,>=2.0.0->wandb) (3.6)\n",
            "Requirement already satisfied: urllib3<3,>=1.21.1 in /usr/local/lib/python3.10/dist-packages (from requests<3,>=2.0.0->wandb) (2.0.7)\n",
            "Requirement already satisfied: certifi>=2017.4.17 in /usr/local/lib/python3.10/dist-packages (from requests<3,>=2.0.0->wandb) (2023.11.17)\n",
            "Requirement already satisfied: smmap<6,>=3.0.1 in /usr/local/lib/python3.10/dist-packages (from gitdb<5,>=4.0.1->GitPython!=3.1.29,>=1.0.0->wandb) (5.0.1)\n",
            "\u001b[34m\u001b[1mwandb\u001b[0m: Currently logged in as: \u001b[33mmuhammad_zain\u001b[0m (\u001b[33mpractice_0\u001b[0m). Use \u001b[1m`wandb login --relogin`\u001b[0m to force relogin\n"
          ]
        }
      ]
    },
    {
      "cell_type": "code",
      "source": [
        "\n",
        "\n",
        "\n",
        "\n",
        "# Start a run, tracking hyperparameters\n",
        "wandb.init(\n",
        "    # set the wandb project where this run will be logged\n",
        "    project=\"Malaria Detection\",\n",
        ")\n"
      ],
      "metadata": {
        "id": "p2jsc9vqZtk6"
      },
      "execution_count": null,
      "outputs": []
    },
    {
      "cell_type": "code",
      "source": [
        "import wandb\n",
        "from wandb.keras import WandbCallback\n",
        "from tensorflow.keras.layers import (\n",
        "    InputLayer,\n",
        "    Conv2D,\n",
        "    BatchNormalization,\n",
        "    MaxPool2D,\n",
        "    Dropout,\n",
        "    Flatten,\n",
        "    Dense,\n",
        ")\n",
        "from tensorflow.keras.regularizers import L2\n",
        "# from wandb.sweeps.config import uniform\n",
        "import tensorflow as tf\n",
        "\n",
        "CONFIGURATION = {\n",
        "    \"LEARNING_RATE\": 0.001,\n",
        "    \"N_EPOCHS\": 3,\n",
        "    \"BATCH_SIZE\": 128,\n",
        "    \"DROPOUT_RATE\": 0.2,\n",
        "    'IM_SIZE': 224,\n",
        "    \"REGULARIZATION_RATE\": 0.0,\n",
        "    \"N_FILTERS\": 6,\n",
        "    \"KERNEL_SIZE\": 6,\n",
        "    \"N_STRIDES\": 1,\n",
        "    \"POOL_SIZE\": 2,\n",
        "    \"N_DENSE_1\": 128,\n",
        "    \"N_DENSE_2\": 32,\n",
        "}\n"
      ],
      "metadata": {
        "id": "6x1PuXQfaQTT"
      },
      "execution_count": null,
      "outputs": []
    },
    {
      "cell_type": "code",
      "source": [
        "sweep_configuration = {\n",
        "    \"name\": \"Malaria_Diagnosis_Sweep\",\n",
        "    \"method\": \"random\",\n",
        "    \"metric\": {\n",
        "        \"goal\": \"maximize\",\n",
        "        \"name\": \"accuracy\"\n",
        "    },\n",
        "    \"parameters\": {\n",
        "        \"N_EPOCHS\": {\n",
        "            \"values\": [3, 5, 8, 10]\n",
        "        },\n",
        "        \"BATCH_SIZE\": {\n",
        "            \"values\": [64, 128, 256]\n",
        "        },\n",
        "        \"IM_SIZE\": {\n",
        "            \"values\": [224]\n",
        "        },\n",
        "        \"DROPOUT_RATE\": {\n",
        "            \"distribution\": \"uniform\",\n",
        "            \"min\": 0.1,\n",
        "            \"max\": 0.4\n",
        "        },\n",
        "        \"LEARNING_RATE\": {\n",
        "            \"distribution\": \"uniform\",\n",
        "            \"min\": 0.0001,\n",
        "            \"max\": 0.1\n",
        "        },\n",
        "        \"REGULARIZATION_RATE\": {\n",
        "            \"values\": [0.0, 0.001, 0.01]\n",
        "        },\n",
        "        \"N_FILTERS\": {\n",
        "            \"values\": [6, 12, 24]\n",
        "        },\n",
        "        \"KERNEL_SIZE\": {\n",
        "            \"values\": [3, 5, 7]\n",
        "        },\n",
        "        \"N_STRIDES\": {\n",
        "            \"values\": [1, 2]\n",
        "        },\n",
        "        \"POOL_SIZE\": {\n",
        "            \"values\": [2, 4]\n",
        "        },\n",
        "        \"N_DENSE_1\": {\n",
        "            \"values\": [64, 128, 256]\n",
        "        },\n",
        "        \"N_DENSE_2\": {\n",
        "            \"values\": [32, 64, 128]\n",
        "        }\n",
        "    }\n",
        "}\n",
        "\n",
        "sweep_id = wandb.sweep(sweep=sweep_configuration, project=\"Malaria Detection\")\n"
      ],
      "metadata": {
        "colab": {
          "base_uri": "https://localhost:8080/"
        },
        "id": "SEkmFKiXI9pT",
        "outputId": "4b88fed7-e360-4f34-e31f-a71187855a9d"
      },
      "execution_count": null,
      "outputs": [
        {
          "output_type": "stream",
          "name": "stdout",
          "text": [
            "Create sweep with ID: jj4ctfpr\n",
            "Sweep URL: https://wandb.ai/practice_0/Malaria%20Detection/sweeps/jj4ctfpr\n"
          ]
        }
      ]
    },
    {
      "cell_type": "code",
      "source": [
        "IM_SIZE = 224\n",
        "\n",
        "# Data augmentation layers\n",
        "augment_layers = tf.keras.Sequential([\n",
        "    tf.keras.layers.RandomRotation(factor=(0.25, 0.2501)),\n",
        "    tf.keras.layers.RandomFlip(mode='horizontal'),\n",
        "    tf.keras.layers.RandomContrast(factor=0.1)\n",
        "])\n",
        "\n",
        "# Resizing and Rescaling layers\n",
        "resize_rescale_layers = tf.keras.Sequential([\n",
        "    tf.keras.layers.Resizing(IM_SIZE, IM_SIZE),\n",
        "    tf.keras.layers.Rescaling(1.0 / 255)\n",
        "])\n",
        "\n",
        "def model_tune(config):\n",
        "    config = wandb.config\n",
        "    lenet_model = tf.keras.Sequential([\n",
        "        tf.keras.layers.InputLayer(input_shape=(config.IM_SIZE, config.IM_SIZE, 3)),\n",
        "        tf.keras.layers.Conv2D(filters=config.N_FILTERS, kernel_size=config.KERNEL_SIZE, strides=config.N_STRIDES, padding='valid', activation='relu', kernel_regularizer=tf.keras.regularizers.L2(config.REGULARIZATION_RATE)),\n",
        "        tf.keras.layers.BatchNormalization(),\n",
        "        tf.keras.layers.MaxPool2D(pool_size=config.POOL_SIZE, strides=config.N_STRIDES),\n",
        "        tf.keras.layers.Dropout(rate=config.DROPOUT_RATE),\n",
        "\n",
        "        tf.keras.layers.Conv2D(filters=config.N_FILTERS, kernel_size=config.KERNEL_SIZE, strides=config.N_STRIDES, padding='valid', activation='relu', kernel_regularizer=tf.keras.regularizers.L2(config.REGULARIZATION_RATE)),\n",
        "        tf.keras.layers.BatchNormalization(),\n",
        "        tf.keras.layers.MaxPool2D(pool_size=config.POOL_SIZE, strides=config.N_STRIDES),\n",
        "\n",
        "        tf.keras.layers.Flatten(),\n",
        "\n",
        "        tf.keras.layers.Dense(config.N_DENSE_1, activation=\"relu\", kernel_regularizer=tf.keras.regularizers.L2(config.REGULARIZATION_RATE)),\n",
        "        tf.keras.layers.BatchNormalization(),\n",
        "        tf.keras.layers.Dropout(rate=config.DROPOUT_RATE),\n",
        "\n",
        "        tf.keras.layers.Dense(config.N_DENSE_2, activation=\"relu\", kernel_regularizer=tf.keras.regularizers.L2(config.REGULARIZATION_RATE)),\n",
        "        tf.keras.layers.BatchNormalization(),\n",
        "\n",
        "        tf.keras.layers.Dense(1, activation=\"sigmoid\")\n",
        "    ])\n",
        "\n",
        "    return lenet_model\n",
        "\n",
        "\n"
      ],
      "metadata": {
        "id": "oaxojz3pIzKp"
      },
      "execution_count": null,
      "outputs": []
    },
    {
      "cell_type": "code",
      "source": [
        "def train():\n",
        "    with wandb.init(project=\"Malaria Detection\", config=sweep_configuration) as run:\n",
        "        config = wandb.config\n",
        "        model = model_tune(config)\n",
        "        model = model_tune(config)\n",
        "        model.compile(\n",
        "            optimizer=tf.keras.optimizers.Adam(learning_rate=config.LEARNING_RATE),\n",
        "            loss='binary_crossentropy',\n",
        "            metrics=['accuracy'],\n",
        "        )\n",
        "\n",
        "        model.fit(val_dataset, epochs=config.N_EPOCHS, callbacks=WandbCallback())\n",
        "\n",
        "wandb.agent(sweep_id, function=train, count=5)"
      ],
      "metadata": {
        "colab": {
          "base_uri": "https://localhost:8080/",
          "height": 1000,
          "referenced_widgets": [
            "bca1773c94114a9fb817090e9e29d32b",
            "6bc779b6b5774556899a5d8e8e6e399d",
            "4c9000521e4f43eab23ca0c552b5e9ff",
            "da5388182a1d4361ae1b2f72bf865fc2",
            "b8f75b850eab4579a59ab8eca57d9459",
            "fcb15c6e67794ce095e7f10c5be2d7d6",
            "0c8c9be00f014d0b8adc05a213bd6b1a",
            "db9014601c414585ad7c133f64e2eb1b",
            "902ff50d14ae4d02812014e1684a5fad",
            "16f04602d01c4b668a0014dd6f55cd8d",
            "e683c25879864cf49a2b781a38f8807b",
            "3de98e10c8bf422cbf594ae45f68cc25",
            "6b60faf0d4e248428955e5d1083d5d37",
            "f542f13e354b496a82789e4cf0c6d3bd",
            "825e07a909fc4d2186d5d488cfd00a94",
            "a57c30f97dfa438da8151cfbbfa7ab35",
            "f4c3a50a5cf44155af1775c59dedca6b",
            "e75b89a111a14487bea13136153d27f8",
            "3a33abfca42a45ae848029b8508e9f3e",
            "e2f8161568b3450d8d8e3462795b2b52",
            "55abc01888ef42038136930674ba6662",
            "3a5954dccc5741de80a8679fa40c33bb",
            "0abd9dfeffc94823aa48071f806f32dc",
            "6a6ec5bfe0c4422e936603404364c317",
            "70e4e1a4f717489090a218450d17f7c6",
            "cdfeb9471408426ebf68a8bf3339dcec",
            "14c0826f8bf245b78464a0f780b1fe7c",
            "021ae275cdc84bfe9cfecc98907e9d20",
            "c08bec65fe7d481f86010fb64d850b2e",
            "dd025a92729744c0bedb6f4428c5e8ee",
            "aa61c467f1644d9c8d38e4253311e402",
            "f10a513a16864db6a6bc8ad656c8ce0b",
            "91bc9e0aac1141bb8e5e2712be395d3e",
            "69fc5b0883bd4605ab2ab01f6b921bd3",
            "483061a2720d41bb815a584013ddcf23",
            "2fe93118c7394065981987f592b95c9b",
            "ba13e27e667f4ec4b5c094abe497b649",
            "bc93dccd110b456e80c790918aebd285",
            "7cab4a1c93934d46ba32253c1be8650f",
            "3ea3b9ed22a144a1abaac1617ad7fc88"
          ]
        },
        "id": "yBL0czS7LvyL",
        "outputId": "b9268034-54ba-402e-e7bd-0e237f31c32c"
      },
      "execution_count": null,
      "outputs": [
        {
          "output_type": "stream",
          "name": "stderr",
          "text": [
            "\u001b[34m\u001b[1mwandb\u001b[0m: Agent Starting Run: qbbjhfic with config:\n",
            "\u001b[34m\u001b[1mwandb\u001b[0m: \tBATCH_SIZE: 128\n",
            "\u001b[34m\u001b[1mwandb\u001b[0m: \tDROPOUT_RATE: 0.20486024821790844\n",
            "\u001b[34m\u001b[1mwandb\u001b[0m: \tIM_SIZE: 224\n",
            "\u001b[34m\u001b[1mwandb\u001b[0m: \tKERNEL_SIZE: 5\n",
            "\u001b[34m\u001b[1mwandb\u001b[0m: \tLEARNING_RATE: 0.06746372118563575\n",
            "\u001b[34m\u001b[1mwandb\u001b[0m: \tN_DENSE_1: 128\n",
            "\u001b[34m\u001b[1mwandb\u001b[0m: \tN_DENSE_2: 128\n",
            "\u001b[34m\u001b[1mwandb\u001b[0m: \tN_EPOCHS: 3\n",
            "\u001b[34m\u001b[1mwandb\u001b[0m: \tN_FILTERS: 6\n",
            "\u001b[34m\u001b[1mwandb\u001b[0m: \tN_STRIDES: 1\n",
            "\u001b[34m\u001b[1mwandb\u001b[0m: \tPOOL_SIZE: 4\n",
            "\u001b[34m\u001b[1mwandb\u001b[0m: \tREGULARIZATION_RATE: 0.001\n",
            "\u001b[34m\u001b[1mwandb\u001b[0m: \u001b[33mWARNING\u001b[0m Ignored wandb.init() arg project when running a sweep.\n"
          ]
        },
        {
          "output_type": "display_data",
          "data": {
            "text/plain": [
              "<IPython.core.display.HTML object>"
            ],
            "text/html": [
              "Tracking run with wandb version 0.16.2"
            ]
          },
          "metadata": {}
        },
        {
          "output_type": "display_data",
          "data": {
            "text/plain": [
              "<IPython.core.display.HTML object>"
            ],
            "text/html": [
              "Run data is saved locally in <code>/content/wandb/run-20240203_191606-qbbjhfic</code>"
            ]
          },
          "metadata": {}
        },
        {
          "output_type": "display_data",
          "data": {
            "text/plain": [
              "<IPython.core.display.HTML object>"
            ],
            "text/html": [
              "Syncing run <strong><a href='https://wandb.ai/practice_0/Malaria%20Detection/runs/qbbjhfic' target=\"_blank\">good-sweep-1</a></strong> to <a href='https://wandb.ai/practice_0/Malaria%20Detection' target=\"_blank\">Weights & Biases</a> (<a href='https://wandb.me/run' target=\"_blank\">docs</a>)<br/>Sweep page: <a href='https://wandb.ai/practice_0/Malaria%20Detection/sweeps/jj4ctfpr' target=\"_blank\">https://wandb.ai/practice_0/Malaria%20Detection/sweeps/jj4ctfpr</a>"
            ]
          },
          "metadata": {}
        },
        {
          "output_type": "display_data",
          "data": {
            "text/plain": [
              "<IPython.core.display.HTML object>"
            ],
            "text/html": [
              " View project at <a href='https://wandb.ai/practice_0/Malaria%20Detection' target=\"_blank\">https://wandb.ai/practice_0/Malaria%20Detection</a>"
            ]
          },
          "metadata": {}
        },
        {
          "output_type": "display_data",
          "data": {
            "text/plain": [
              "<IPython.core.display.HTML object>"
            ],
            "text/html": [
              " View sweep at <a href='https://wandb.ai/practice_0/Malaria%20Detection/sweeps/jj4ctfpr' target=\"_blank\">https://wandb.ai/practice_0/Malaria%20Detection/sweeps/jj4ctfpr</a>"
            ]
          },
          "metadata": {}
        },
        {
          "output_type": "display_data",
          "data": {
            "text/plain": [
              "<IPython.core.display.HTML object>"
            ],
            "text/html": [
              " View run at <a href='https://wandb.ai/practice_0/Malaria%20Detection/runs/qbbjhfic' target=\"_blank\">https://wandb.ai/practice_0/Malaria%20Detection/runs/qbbjhfic</a>"
            ]
          },
          "metadata": {}
        },
        {
          "output_type": "stream",
          "name": "stdout",
          "text": [
            "Epoch 1/3\n",
            " 6/87 [=>............................] - ETA: 6s - loss: 465.3846 - accuracy: 0.5677"
          ]
        },
        {
          "output_type": "stream",
          "name": "stderr",
          "text": [
            "WARNING:tensorflow:Callback method `on_train_batch_end` is slow compared to the batch time (batch time: 0.0241s vs `on_train_batch_end` time: 0.0453s). Check your callbacks.\n"
          ]
        },
        {
          "output_type": "stream",
          "name": "stdout",
          "text": [
            "87/87 [==============================] - 22s 80ms/step - loss: 366.6527 - accuracy: 0.5492\n",
            "Epoch 2/3\n",
            "87/87 [==============================] - 18s 83ms/step - loss: 17.3987 - accuracy: 0.5706\n",
            "Epoch 3/3\n",
            "87/87 [==============================] - 18s 79ms/step - loss: 13.0489 - accuracy: 0.5710\n"
          ]
        },
        {
          "output_type": "display_data",
          "data": {
            "text/plain": [
              "VBox(children=(Label(value='0.004 MB of 0.004 MB uploaded\\r'), FloatProgress(value=1.0, max=1.0)))"
            ],
            "application/vnd.jupyter.widget-view+json": {
              "version_major": 2,
              "version_minor": 0,
              "model_id": "bca1773c94114a9fb817090e9e29d32b"
            }
          },
          "metadata": {}
        },
        {
          "output_type": "display_data",
          "data": {
            "text/plain": [
              "<IPython.core.display.HTML object>"
            ],
            "text/html": [
              "<style>\n",
              "    table.wandb td:nth-child(1) { padding: 0 10px; text-align: left ; width: auto;} td:nth-child(2) {text-align: left ; width: 100%}\n",
              "    .wandb-row { display: flex; flex-direction: row; flex-wrap: wrap; justify-content: flex-start; width: 100% }\n",
              "    .wandb-col { display: flex; flex-direction: column; flex-basis: 100%; flex: 1; padding: 10px; }\n",
              "    </style>\n",
              "<div class=\"wandb-row\"><div class=\"wandb-col\"><h3>Run history:</h3><br/><table class=\"wandb\"><tr><td>accuracy</td><td>▁██</td></tr><tr><td>epoch</td><td>▁▅█</td></tr><tr><td>loss</td><td>█▁▁</td></tr></table><br/></div><div class=\"wandb-col\"><h3>Run summary:</h3><br/><table class=\"wandb\"><tr><td>accuracy</td><td>0.57096</td></tr><tr><td>epoch</td><td>2</td></tr><tr><td>loss</td><td>13.04889</td></tr></table><br/></div></div>"
            ]
          },
          "metadata": {}
        },
        {
          "output_type": "display_data",
          "data": {
            "text/plain": [
              "<IPython.core.display.HTML object>"
            ],
            "text/html": [
              " View run <strong style=\"color:#cdcd00\">good-sweep-1</strong> at: <a href='https://wandb.ai/practice_0/Malaria%20Detection/runs/qbbjhfic' target=\"_blank\">https://wandb.ai/practice_0/Malaria%20Detection/runs/qbbjhfic</a><br/>Synced 5 W&B file(s), 1 media file(s), 0 artifact file(s) and 0 other file(s)"
            ]
          },
          "metadata": {}
        },
        {
          "output_type": "display_data",
          "data": {
            "text/plain": [
              "<IPython.core.display.HTML object>"
            ],
            "text/html": [
              "Find logs at: <code>./wandb/run-20240203_191606-qbbjhfic/logs</code>"
            ]
          },
          "metadata": {}
        },
        {
          "output_type": "stream",
          "name": "stderr",
          "text": [
            "\u001b[34m\u001b[1mwandb\u001b[0m: Sweep Agent: Waiting for job.\n",
            "\u001b[34m\u001b[1mwandb\u001b[0m: Job received.\n",
            "\u001b[34m\u001b[1mwandb\u001b[0m: Agent Starting Run: ab94627a with config:\n",
            "\u001b[34m\u001b[1mwandb\u001b[0m: \tBATCH_SIZE: 64\n",
            "\u001b[34m\u001b[1mwandb\u001b[0m: \tDROPOUT_RATE: 0.21660951318477348\n",
            "\u001b[34m\u001b[1mwandb\u001b[0m: \tIM_SIZE: 224\n",
            "\u001b[34m\u001b[1mwandb\u001b[0m: \tKERNEL_SIZE: 7\n",
            "\u001b[34m\u001b[1mwandb\u001b[0m: \tLEARNING_RATE: 0.07883990714024308\n",
            "\u001b[34m\u001b[1mwandb\u001b[0m: \tN_DENSE_1: 256\n",
            "\u001b[34m\u001b[1mwandb\u001b[0m: \tN_DENSE_2: 64\n",
            "\u001b[34m\u001b[1mwandb\u001b[0m: \tN_EPOCHS: 8\n",
            "\u001b[34m\u001b[1mwandb\u001b[0m: \tN_FILTERS: 24\n",
            "\u001b[34m\u001b[1mwandb\u001b[0m: \tN_STRIDES: 1\n",
            "\u001b[34m\u001b[1mwandb\u001b[0m: \tPOOL_SIZE: 4\n",
            "\u001b[34m\u001b[1mwandb\u001b[0m: \tREGULARIZATION_RATE: 0.01\n",
            "\u001b[34m\u001b[1mwandb\u001b[0m: \u001b[33mWARNING\u001b[0m Ignored wandb.init() arg project when running a sweep.\n"
          ]
        },
        {
          "output_type": "display_data",
          "data": {
            "text/plain": [
              "<IPython.core.display.HTML object>"
            ],
            "text/html": [
              "Tracking run with wandb version 0.16.2"
            ]
          },
          "metadata": {}
        },
        {
          "output_type": "display_data",
          "data": {
            "text/plain": [
              "<IPython.core.display.HTML object>"
            ],
            "text/html": [
              "Run data is saved locally in <code>/content/wandb/run-20240203_191737-ab94627a</code>"
            ]
          },
          "metadata": {}
        },
        {
          "output_type": "display_data",
          "data": {
            "text/plain": [
              "<IPython.core.display.HTML object>"
            ],
            "text/html": [
              "Syncing run <strong><a href='https://wandb.ai/practice_0/Malaria%20Detection/runs/ab94627a' target=\"_blank\">dutiful-sweep-2</a></strong> to <a href='https://wandb.ai/practice_0/Malaria%20Detection' target=\"_blank\">Weights & Biases</a> (<a href='https://wandb.me/run' target=\"_blank\">docs</a>)<br/>Sweep page: <a href='https://wandb.ai/practice_0/Malaria%20Detection/sweeps/jj4ctfpr' target=\"_blank\">https://wandb.ai/practice_0/Malaria%20Detection/sweeps/jj4ctfpr</a>"
            ]
          },
          "metadata": {}
        },
        {
          "output_type": "display_data",
          "data": {
            "text/plain": [
              "<IPython.core.display.HTML object>"
            ],
            "text/html": [
              " View project at <a href='https://wandb.ai/practice_0/Malaria%20Detection' target=\"_blank\">https://wandb.ai/practice_0/Malaria%20Detection</a>"
            ]
          },
          "metadata": {}
        },
        {
          "output_type": "display_data",
          "data": {
            "text/plain": [
              "<IPython.core.display.HTML object>"
            ],
            "text/html": [
              " View sweep at <a href='https://wandb.ai/practice_0/Malaria%20Detection/sweeps/jj4ctfpr' target=\"_blank\">https://wandb.ai/practice_0/Malaria%20Detection/sweeps/jj4ctfpr</a>"
            ]
          },
          "metadata": {}
        },
        {
          "output_type": "display_data",
          "data": {
            "text/plain": [
              "<IPython.core.display.HTML object>"
            ],
            "text/html": [
              " View run at <a href='https://wandb.ai/practice_0/Malaria%20Detection/runs/ab94627a' target=\"_blank\">https://wandb.ai/practice_0/Malaria%20Detection/runs/ab94627a</a>"
            ]
          },
          "metadata": {}
        },
        {
          "output_type": "stream",
          "name": "stdout",
          "text": [
            "Epoch 1/8\n",
            " 6/87 [=>............................] - ETA: 18s - loss: 20554.0078 - accuracy: 0.5521"
          ]
        },
        {
          "output_type": "stream",
          "name": "stderr",
          "text": [
            "WARNING:tensorflow:Callback method `on_train_batch_end` is slow compared to the batch time (batch time: 0.0649s vs `on_train_batch_end` time: 0.1394s). Check your callbacks.\n"
          ]
        },
        {
          "output_type": "stream",
          "name": "stdout",
          "text": [
            "87/87 [==============================] - 39s 238ms/step - loss: 3752.8518 - accuracy: 0.5604\n",
            "Epoch 2/8\n",
            "87/87 [==============================] - 31s 232ms/step - loss: 29.4482 - accuracy: 0.5568\n",
            "Epoch 3/8\n",
            "87/87 [==============================] - 31s 233ms/step - loss: 73.8468 - accuracy: 0.5405\n",
            "Epoch 4/8\n",
            "87/87 [==============================] - 31s 234ms/step - loss: 16.5678 - accuracy: 0.5445\n",
            "Epoch 5/8\n",
            "87/87 [==============================] - 30s 234ms/step - loss: 25.0538 - accuracy: 0.5485\n",
            "Epoch 6/8\n",
            "87/87 [==============================] - 31s 233ms/step - loss: 159.1632 - accuracy: 0.5249\n",
            "Epoch 7/8\n",
            "87/87 [==============================] - 31s 234ms/step - loss: 61.9426 - accuracy: 0.5241\n",
            "Epoch 8/8\n",
            "87/87 [==============================] - 30s 234ms/step - loss: 31.6607 - accuracy: 0.5263\n"
          ]
        },
        {
          "output_type": "display_data",
          "data": {
            "text/plain": [
              "VBox(children=(Label(value='0.004 MB of 0.004 MB uploaded\\r'), FloatProgress(value=1.0, max=1.0)))"
            ],
            "application/vnd.jupyter.widget-view+json": {
              "version_major": 2,
              "version_minor": 0,
              "model_id": "902ff50d14ae4d02812014e1684a5fad"
            }
          },
          "metadata": {}
        },
        {
          "output_type": "display_data",
          "data": {
            "text/plain": [
              "<IPython.core.display.HTML object>"
            ],
            "text/html": [
              "<style>\n",
              "    table.wandb td:nth-child(1) { padding: 0 10px; text-align: left ; width: auto;} td:nth-child(2) {text-align: left ; width: 100%}\n",
              "    .wandb-row { display: flex; flex-direction: row; flex-wrap: wrap; justify-content: flex-start; width: 100% }\n",
              "    .wandb-col { display: flex; flex-direction: column; flex-basis: 100%; flex: 1; padding: 10px; }\n",
              "    </style>\n",
              "<div class=\"wandb-row\"><div class=\"wandb-col\"><h3>Run history:</h3><br/><table class=\"wandb\"><tr><td>accuracy</td><td>█▇▄▅▆▁▁▁</td></tr><tr><td>epoch</td><td>▁▂▃▄▅▆▇█</td></tr><tr><td>loss</td><td>█▁▁▁▁▁▁▁</td></tr></table><br/></div><div class=\"wandb-col\"><h3>Run summary:</h3><br/><table class=\"wandb\"><tr><td>accuracy</td><td>0.52632</td></tr><tr><td>epoch</td><td>7</td></tr><tr><td>loss</td><td>31.66067</td></tr></table><br/></div></div>"
            ]
          },
          "metadata": {}
        },
        {
          "output_type": "display_data",
          "data": {
            "text/plain": [
              "<IPython.core.display.HTML object>"
            ],
            "text/html": [
              " View run <strong style=\"color:#cdcd00\">dutiful-sweep-2</strong> at: <a href='https://wandb.ai/practice_0/Malaria%20Detection/runs/ab94627a' target=\"_blank\">https://wandb.ai/practice_0/Malaria%20Detection/runs/ab94627a</a><br/>Synced 5 W&B file(s), 1 media file(s), 0 artifact file(s) and 0 other file(s)"
            ]
          },
          "metadata": {}
        },
        {
          "output_type": "display_data",
          "data": {
            "text/plain": [
              "<IPython.core.display.HTML object>"
            ],
            "text/html": [
              "Find logs at: <code>./wandb/run-20240203_191737-ab94627a/logs</code>"
            ]
          },
          "metadata": {}
        },
        {
          "output_type": "stream",
          "name": "stderr",
          "text": [
            "\u001b[34m\u001b[1mwandb\u001b[0m: Agent Starting Run: 5wpxmvzu with config:\n",
            "\u001b[34m\u001b[1mwandb\u001b[0m: \tBATCH_SIZE: 64\n",
            "\u001b[34m\u001b[1mwandb\u001b[0m: \tDROPOUT_RATE: 0.3156792584945858\n",
            "\u001b[34m\u001b[1mwandb\u001b[0m: \tIM_SIZE: 224\n",
            "\u001b[34m\u001b[1mwandb\u001b[0m: \tKERNEL_SIZE: 5\n",
            "\u001b[34m\u001b[1mwandb\u001b[0m: \tLEARNING_RATE: 0.04575156105066433\n",
            "\u001b[34m\u001b[1mwandb\u001b[0m: \tN_DENSE_1: 128\n",
            "\u001b[34m\u001b[1mwandb\u001b[0m: \tN_DENSE_2: 128\n",
            "\u001b[34m\u001b[1mwandb\u001b[0m: \tN_EPOCHS: 10\n",
            "\u001b[34m\u001b[1mwandb\u001b[0m: \tN_FILTERS: 24\n",
            "\u001b[34m\u001b[1mwandb\u001b[0m: \tN_STRIDES: 1\n",
            "\u001b[34m\u001b[1mwandb\u001b[0m: \tPOOL_SIZE: 2\n",
            "\u001b[34m\u001b[1mwandb\u001b[0m: \tREGULARIZATION_RATE: 0.001\n",
            "\u001b[34m\u001b[1mwandb\u001b[0m: \u001b[33mWARNING\u001b[0m Ignored wandb.init() arg project when running a sweep.\n"
          ]
        },
        {
          "output_type": "display_data",
          "data": {
            "text/plain": [
              "<IPython.core.display.HTML object>"
            ],
            "text/html": [
              "Tracking run with wandb version 0.16.2"
            ]
          },
          "metadata": {}
        },
        {
          "output_type": "display_data",
          "data": {
            "text/plain": [
              "<IPython.core.display.HTML object>"
            ],
            "text/html": [
              "Run data is saved locally in <code>/content/wandb/run-20240203_192234-5wpxmvzu</code>"
            ]
          },
          "metadata": {}
        },
        {
          "output_type": "display_data",
          "data": {
            "text/plain": [
              "<IPython.core.display.HTML object>"
            ],
            "text/html": [
              "Syncing run <strong><a href='https://wandb.ai/practice_0/Malaria%20Detection/runs/5wpxmvzu' target=\"_blank\">rose-sweep-3</a></strong> to <a href='https://wandb.ai/practice_0/Malaria%20Detection' target=\"_blank\">Weights & Biases</a> (<a href='https://wandb.me/run' target=\"_blank\">docs</a>)<br/>Sweep page: <a href='https://wandb.ai/practice_0/Malaria%20Detection/sweeps/jj4ctfpr' target=\"_blank\">https://wandb.ai/practice_0/Malaria%20Detection/sweeps/jj4ctfpr</a>"
            ]
          },
          "metadata": {}
        },
        {
          "output_type": "display_data",
          "data": {
            "text/plain": [
              "<IPython.core.display.HTML object>"
            ],
            "text/html": [
              " View project at <a href='https://wandb.ai/practice_0/Malaria%20Detection' target=\"_blank\">https://wandb.ai/practice_0/Malaria%20Detection</a>"
            ]
          },
          "metadata": {}
        },
        {
          "output_type": "display_data",
          "data": {
            "text/plain": [
              "<IPython.core.display.HTML object>"
            ],
            "text/html": [
              " View sweep at <a href='https://wandb.ai/practice_0/Malaria%20Detection/sweeps/jj4ctfpr' target=\"_blank\">https://wandb.ai/practice_0/Malaria%20Detection/sweeps/jj4ctfpr</a>"
            ]
          },
          "metadata": {}
        },
        {
          "output_type": "display_data",
          "data": {
            "text/plain": [
              "<IPython.core.display.HTML object>"
            ],
            "text/html": [
              " View run at <a href='https://wandb.ai/practice_0/Malaria%20Detection/runs/5wpxmvzu' target=\"_blank\">https://wandb.ai/practice_0/Malaria%20Detection/runs/5wpxmvzu</a>"
            ]
          },
          "metadata": {}
        },
        {
          "output_type": "stream",
          "name": "stdout",
          "text": [
            "Epoch 1/10\n",
            " 6/87 [=>............................] - ETA: 13s - loss: 1022.7150 - accuracy: 0.6406"
          ]
        },
        {
          "output_type": "stream",
          "name": "stderr",
          "text": [
            "WARNING:tensorflow:Callback method `on_train_batch_end` is slow compared to the batch time (batch time: 0.0505s vs `on_train_batch_end` time: 0.0947s). Check your callbacks.\n"
          ]
        },
        {
          "output_type": "stream",
          "name": "stdout",
          "text": [
            "87/87 [==============================] - 39s 170ms/step - loss: 1047.5298 - accuracy: 0.5975\n",
            "Epoch 2/10\n",
            "87/87 [==============================] - 25s 166ms/step - loss: 19.1808 - accuracy: 0.6149\n",
            "Epoch 3/10\n",
            "87/87 [==============================] - 23s 166ms/step - loss: 24.9419 - accuracy: 0.5906\n",
            "Epoch 4/10\n",
            "87/87 [==============================] - 25s 165ms/step - loss: 32.6755 - accuracy: 0.5848\n",
            "Epoch 5/10\n",
            "87/87 [==============================] - 25s 165ms/step - loss: 5.0782 - accuracy: 0.5942\n",
            "Epoch 6/10\n",
            "87/87 [==============================] - 25s 166ms/step - loss: 30.7775 - accuracy: 0.5855\n",
            "Epoch 7/10\n",
            "87/87 [==============================] - 25s 165ms/step - loss: 11.1738 - accuracy: 0.6080\n",
            "Epoch 8/10\n",
            "87/87 [==============================] - 25s 166ms/step - loss: 4.7266 - accuracy: 0.5920\n",
            "Epoch 9/10\n",
            "87/87 [==============================] - 25s 166ms/step - loss: 41.4542 - accuracy: 0.5797\n",
            "Epoch 10/10\n",
            "87/87 [==============================] - 23s 165ms/step - loss: 32.2627 - accuracy: 0.5336\n"
          ]
        },
        {
          "output_type": "display_data",
          "data": {
            "text/plain": [
              "VBox(children=(Label(value='0.004 MB of 0.004 MB uploaded\\r'), FloatProgress(value=1.0, max=1.0)))"
            ],
            "application/vnd.jupyter.widget-view+json": {
              "version_major": 2,
              "version_minor": 0,
              "model_id": "f4c3a50a5cf44155af1775c59dedca6b"
            }
          },
          "metadata": {}
        },
        {
          "output_type": "display_data",
          "data": {
            "text/plain": [
              "<IPython.core.display.HTML object>"
            ],
            "text/html": [
              "<style>\n",
              "    table.wandb td:nth-child(1) { padding: 0 10px; text-align: left ; width: auto;} td:nth-child(2) {text-align: left ; width: 100%}\n",
              "    .wandb-row { display: flex; flex-direction: row; flex-wrap: wrap; justify-content: flex-start; width: 100% }\n",
              "    .wandb-col { display: flex; flex-direction: column; flex-basis: 100%; flex: 1; padding: 10px; }\n",
              "    </style>\n",
              "<div class=\"wandb-row\"><div class=\"wandb-col\"><h3>Run history:</h3><br/><table class=\"wandb\"><tr><td>accuracy</td><td>▆█▆▅▆▅▇▆▅▁</td></tr><tr><td>epoch</td><td>▁▂▃▃▄▅▆▆▇█</td></tr><tr><td>loss</td><td>█▁▁▁▁▁▁▁▁▁</td></tr></table><br/></div><div class=\"wandb-col\"><h3>Run summary:</h3><br/><table class=\"wandb\"><tr><td>accuracy</td><td>0.53358</td></tr><tr><td>epoch</td><td>9</td></tr><tr><td>loss</td><td>32.26266</td></tr></table><br/></div></div>"
            ]
          },
          "metadata": {}
        },
        {
          "output_type": "display_data",
          "data": {
            "text/plain": [
              "<IPython.core.display.HTML object>"
            ],
            "text/html": [
              " View run <strong style=\"color:#cdcd00\">rose-sweep-3</strong> at: <a href='https://wandb.ai/practice_0/Malaria%20Detection/runs/5wpxmvzu' target=\"_blank\">https://wandb.ai/practice_0/Malaria%20Detection/runs/5wpxmvzu</a><br/>Synced 5 W&B file(s), 1 media file(s), 0 artifact file(s) and 0 other file(s)"
            ]
          },
          "metadata": {}
        },
        {
          "output_type": "display_data",
          "data": {
            "text/plain": [
              "<IPython.core.display.HTML object>"
            ],
            "text/html": [
              "Find logs at: <code>./wandb/run-20240203_192234-5wpxmvzu/logs</code>"
            ]
          },
          "metadata": {}
        },
        {
          "output_type": "stream",
          "name": "stderr",
          "text": [
            "\u001b[34m\u001b[1mwandb\u001b[0m: Agent Starting Run: 9n2db9ox with config:\n",
            "\u001b[34m\u001b[1mwandb\u001b[0m: \tBATCH_SIZE: 256\n",
            "\u001b[34m\u001b[1mwandb\u001b[0m: \tDROPOUT_RATE: 0.18449431799944024\n",
            "\u001b[34m\u001b[1mwandb\u001b[0m: \tIM_SIZE: 224\n",
            "\u001b[34m\u001b[1mwandb\u001b[0m: \tKERNEL_SIZE: 5\n",
            "\u001b[34m\u001b[1mwandb\u001b[0m: \tLEARNING_RATE: 0.009055932017320386\n",
            "\u001b[34m\u001b[1mwandb\u001b[0m: \tN_DENSE_1: 128\n",
            "\u001b[34m\u001b[1mwandb\u001b[0m: \tN_DENSE_2: 32\n",
            "\u001b[34m\u001b[1mwandb\u001b[0m: \tN_EPOCHS: 10\n",
            "\u001b[34m\u001b[1mwandb\u001b[0m: \tN_FILTERS: 24\n",
            "\u001b[34m\u001b[1mwandb\u001b[0m: \tN_STRIDES: 1\n",
            "\u001b[34m\u001b[1mwandb\u001b[0m: \tPOOL_SIZE: 2\n",
            "\u001b[34m\u001b[1mwandb\u001b[0m: \tREGULARIZATION_RATE: 0.001\n",
            "\u001b[34m\u001b[1mwandb\u001b[0m: \u001b[33mWARNING\u001b[0m Ignored wandb.init() arg project when running a sweep.\n"
          ]
        },
        {
          "output_type": "display_data",
          "data": {
            "text/plain": [
              "<IPython.core.display.HTML object>"
            ],
            "text/html": [
              "Tracking run with wandb version 0.16.2"
            ]
          },
          "metadata": {}
        },
        {
          "output_type": "display_data",
          "data": {
            "text/plain": [
              "<IPython.core.display.HTML object>"
            ],
            "text/html": [
              "Run data is saved locally in <code>/content/wandb/run-20240203_192850-9n2db9ox</code>"
            ]
          },
          "metadata": {}
        },
        {
          "output_type": "display_data",
          "data": {
            "text/plain": [
              "<IPython.core.display.HTML object>"
            ],
            "text/html": [
              "Syncing run <strong><a href='https://wandb.ai/practice_0/Malaria%20Detection/runs/9n2db9ox' target=\"_blank\">cerulean-sweep-4</a></strong> to <a href='https://wandb.ai/practice_0/Malaria%20Detection' target=\"_blank\">Weights & Biases</a> (<a href='https://wandb.me/run' target=\"_blank\">docs</a>)<br/>Sweep page: <a href='https://wandb.ai/practice_0/Malaria%20Detection/sweeps/jj4ctfpr' target=\"_blank\">https://wandb.ai/practice_0/Malaria%20Detection/sweeps/jj4ctfpr</a>"
            ]
          },
          "metadata": {}
        },
        {
          "output_type": "display_data",
          "data": {
            "text/plain": [
              "<IPython.core.display.HTML object>"
            ],
            "text/html": [
              " View project at <a href='https://wandb.ai/practice_0/Malaria%20Detection' target=\"_blank\">https://wandb.ai/practice_0/Malaria%20Detection</a>"
            ]
          },
          "metadata": {}
        },
        {
          "output_type": "display_data",
          "data": {
            "text/plain": [
              "<IPython.core.display.HTML object>"
            ],
            "text/html": [
              " View sweep at <a href='https://wandb.ai/practice_0/Malaria%20Detection/sweeps/jj4ctfpr' target=\"_blank\">https://wandb.ai/practice_0/Malaria%20Detection/sweeps/jj4ctfpr</a>"
            ]
          },
          "metadata": {}
        },
        {
          "output_type": "display_data",
          "data": {
            "text/plain": [
              "<IPython.core.display.HTML object>"
            ],
            "text/html": [
              " View run at <a href='https://wandb.ai/practice_0/Malaria%20Detection/runs/9n2db9ox' target=\"_blank\">https://wandb.ai/practice_0/Malaria%20Detection/runs/9n2db9ox</a>"
            ]
          },
          "metadata": {}
        },
        {
          "output_type": "stream",
          "name": "stdout",
          "text": [
            "Epoch 1/10\n",
            " 6/87 [=>............................] - ETA: 13s - loss: 45.7009 - accuracy: 0.5677"
          ]
        },
        {
          "output_type": "stream",
          "name": "stderr",
          "text": [
            "WARNING:tensorflow:Callback method `on_train_batch_end` is slow compared to the batch time (batch time: 0.0521s vs `on_train_batch_end` time: 0.0998s). Check your callbacks.\n"
          ]
        },
        {
          "output_type": "stream",
          "name": "stdout",
          "text": [
            "87/87 [==============================] - 28s 167ms/step - loss: 141.6331 - accuracy: 0.5822\n",
            "Epoch 2/10\n",
            "87/87 [==============================] - 25s 166ms/step - loss: 34.0728 - accuracy: 0.6312\n",
            "Epoch 3/10\n",
            "87/87 [==============================] - 25s 166ms/step - loss: 13.1954 - accuracy: 0.6196\n",
            "Epoch 4/10\n",
            "87/87 [==============================] - 25s 165ms/step - loss: 4.3210 - accuracy: 0.6359\n",
            "Epoch 5/10\n",
            "87/87 [==============================] - 25s 167ms/step - loss: 2.8144 - accuracy: 0.6381\n",
            "Epoch 6/10\n",
            "87/87 [==============================] - 33s 166ms/step - loss: 12.3217 - accuracy: 0.6265\n",
            "Epoch 7/10\n",
            "87/87 [==============================] - 24s 166ms/step - loss: 7.1445 - accuracy: 0.6374\n",
            "Epoch 8/10\n",
            "87/87 [==============================] - 25s 167ms/step - loss: 5.5707 - accuracy: 0.6367\n",
            "Epoch 9/10\n",
            "87/87 [==============================] - 25s 165ms/step - loss: 2.1907 - accuracy: 0.6338\n",
            "Epoch 10/10\n",
            "87/87 [==============================] - 25s 165ms/step - loss: 2.0632 - accuracy: 0.6290\n"
          ]
        },
        {
          "output_type": "display_data",
          "data": {
            "text/plain": [
              "VBox(children=(Label(value='0.004 MB of 0.004 MB uploaded\\r'), FloatProgress(value=1.0, max=1.0)))"
            ],
            "application/vnd.jupyter.widget-view+json": {
              "version_major": 2,
              "version_minor": 0,
              "model_id": "70e4e1a4f717489090a218450d17f7c6"
            }
          },
          "metadata": {}
        },
        {
          "output_type": "display_data",
          "data": {
            "text/plain": [
              "<IPython.core.display.HTML object>"
            ],
            "text/html": [
              "<style>\n",
              "    table.wandb td:nth-child(1) { padding: 0 10px; text-align: left ; width: auto;} td:nth-child(2) {text-align: left ; width: 100%}\n",
              "    .wandb-row { display: flex; flex-direction: row; flex-wrap: wrap; justify-content: flex-start; width: 100% }\n",
              "    .wandb-col { display: flex; flex-direction: column; flex-basis: 100%; flex: 1; padding: 10px; }\n",
              "    </style>\n",
              "<div class=\"wandb-row\"><div class=\"wandb-col\"><h3>Run history:</h3><br/><table class=\"wandb\"><tr><td>accuracy</td><td>▁▇▆██▇██▇▇</td></tr><tr><td>epoch</td><td>▁▂▃▃▄▅▆▆▇█</td></tr><tr><td>loss</td><td>█▃▂▁▁▂▁▁▁▁</td></tr></table><br/></div><div class=\"wandb-col\"><h3>Run summary:</h3><br/><table class=\"wandb\"><tr><td>accuracy</td><td>0.62904</td></tr><tr><td>epoch</td><td>9</td></tr><tr><td>loss</td><td>2.06324</td></tr></table><br/></div></div>"
            ]
          },
          "metadata": {}
        },
        {
          "output_type": "display_data",
          "data": {
            "text/plain": [
              "<IPython.core.display.HTML object>"
            ],
            "text/html": [
              " View run <strong style=\"color:#cdcd00\">cerulean-sweep-4</strong> at: <a href='https://wandb.ai/practice_0/Malaria%20Detection/runs/9n2db9ox' target=\"_blank\">https://wandb.ai/practice_0/Malaria%20Detection/runs/9n2db9ox</a><br/>Synced 5 W&B file(s), 1 media file(s), 0 artifact file(s) and 0 other file(s)"
            ]
          },
          "metadata": {}
        },
        {
          "output_type": "display_data",
          "data": {
            "text/plain": [
              "<IPython.core.display.HTML object>"
            ],
            "text/html": [
              "Find logs at: <code>./wandb/run-20240203_192850-9n2db9ox/logs</code>"
            ]
          },
          "metadata": {}
        },
        {
          "output_type": "stream",
          "name": "stderr",
          "text": [
            "\u001b[34m\u001b[1mwandb\u001b[0m: Agent Starting Run: pau4lyc7 with config:\n",
            "\u001b[34m\u001b[1mwandb\u001b[0m: \tBATCH_SIZE: 256\n",
            "\u001b[34m\u001b[1mwandb\u001b[0m: \tDROPOUT_RATE: 0.25895414039041253\n",
            "\u001b[34m\u001b[1mwandb\u001b[0m: \tIM_SIZE: 224\n",
            "\u001b[34m\u001b[1mwandb\u001b[0m: \tKERNEL_SIZE: 3\n",
            "\u001b[34m\u001b[1mwandb\u001b[0m: \tLEARNING_RATE: 0.0442422695891516\n",
            "\u001b[34m\u001b[1mwandb\u001b[0m: \tN_DENSE_1: 64\n",
            "\u001b[34m\u001b[1mwandb\u001b[0m: \tN_DENSE_2: 32\n",
            "\u001b[34m\u001b[1mwandb\u001b[0m: \tN_EPOCHS: 10\n",
            "\u001b[34m\u001b[1mwandb\u001b[0m: \tN_FILTERS: 24\n",
            "\u001b[34m\u001b[1mwandb\u001b[0m: \tN_STRIDES: 2\n",
            "\u001b[34m\u001b[1mwandb\u001b[0m: \tPOOL_SIZE: 2\n",
            "\u001b[34m\u001b[1mwandb\u001b[0m: \tREGULARIZATION_RATE: 0.01\n",
            "\u001b[34m\u001b[1mwandb\u001b[0m: \u001b[33mWARNING\u001b[0m Ignored wandb.init() arg project when running a sweep.\n"
          ]
        },
        {
          "output_type": "display_data",
          "data": {
            "text/plain": [
              "<IPython.core.display.HTML object>"
            ],
            "text/html": [
              "Tracking run with wandb version 0.16.2"
            ]
          },
          "metadata": {}
        },
        {
          "output_type": "display_data",
          "data": {
            "text/plain": [
              "<IPython.core.display.HTML object>"
            ],
            "text/html": [
              "Run data is saved locally in <code>/content/wandb/run-20240203_193508-pau4lyc7</code>"
            ]
          },
          "metadata": {}
        },
        {
          "output_type": "display_data",
          "data": {
            "text/plain": [
              "<IPython.core.display.HTML object>"
            ],
            "text/html": [
              "Syncing run <strong><a href='https://wandb.ai/practice_0/Malaria%20Detection/runs/pau4lyc7' target=\"_blank\">hardy-sweep-5</a></strong> to <a href='https://wandb.ai/practice_0/Malaria%20Detection' target=\"_blank\">Weights & Biases</a> (<a href='https://wandb.me/run' target=\"_blank\">docs</a>)<br/>Sweep page: <a href='https://wandb.ai/practice_0/Malaria%20Detection/sweeps/jj4ctfpr' target=\"_blank\">https://wandb.ai/practice_0/Malaria%20Detection/sweeps/jj4ctfpr</a>"
            ]
          },
          "metadata": {}
        },
        {
          "output_type": "display_data",
          "data": {
            "text/plain": [
              "<IPython.core.display.HTML object>"
            ],
            "text/html": [
              " View project at <a href='https://wandb.ai/practice_0/Malaria%20Detection' target=\"_blank\">https://wandb.ai/practice_0/Malaria%20Detection</a>"
            ]
          },
          "metadata": {}
        },
        {
          "output_type": "display_data",
          "data": {
            "text/plain": [
              "<IPython.core.display.HTML object>"
            ],
            "text/html": [
              " View sweep at <a href='https://wandb.ai/practice_0/Malaria%20Detection/sweeps/jj4ctfpr' target=\"_blank\">https://wandb.ai/practice_0/Malaria%20Detection/sweeps/jj4ctfpr</a>"
            ]
          },
          "metadata": {}
        },
        {
          "output_type": "display_data",
          "data": {
            "text/plain": [
              "<IPython.core.display.HTML object>"
            ],
            "text/html": [
              " View run at <a href='https://wandb.ai/practice_0/Malaria%20Detection/runs/pau4lyc7' target=\"_blank\">https://wandb.ai/practice_0/Malaria%20Detection/runs/pau4lyc7</a>"
            ]
          },
          "metadata": {}
        },
        {
          "output_type": "stream",
          "name": "stdout",
          "text": [
            "Epoch 1/10\n",
            "87/87 [==============================] - 18s 55ms/step - loss: 5.7481 - accuracy: 0.5681\n",
            "Epoch 2/10\n",
            "87/87 [==============================] - 14s 37ms/step - loss: 2.2991 - accuracy: 0.5699\n",
            "Epoch 3/10\n",
            "87/87 [==============================] - 14s 37ms/step - loss: 1.8976 - accuracy: 0.5844\n",
            "Epoch 4/10\n",
            "87/87 [==============================] - 14s 40ms/step - loss: 2.5989 - accuracy: 0.5746\n",
            "Epoch 5/10\n",
            "87/87 [==============================] - 14s 37ms/step - loss: 1.7078 - accuracy: 0.5568\n",
            "Epoch 6/10\n",
            "87/87 [==============================] - 14s 36ms/step - loss: 2.6570 - accuracy: 0.5844\n",
            "Epoch 7/10\n",
            "87/87 [==============================] - 14s 35ms/step - loss: 2.1478 - accuracy: 0.6062\n",
            "Epoch 8/10\n",
            "87/87 [==============================] - 14s 36ms/step - loss: 2.1774 - accuracy: 0.5819\n",
            "Epoch 9/10\n",
            "87/87 [==============================] - 14s 37ms/step - loss: 1.7652 - accuracy: 0.5887\n",
            "Epoch 10/10\n",
            "87/87 [==============================] - 14s 36ms/step - loss: 1.8708 - accuracy: 0.5746\n"
          ]
        },
        {
          "output_type": "display_data",
          "data": {
            "text/plain": [
              "VBox(children=(Label(value='0.015 MB of 0.015 MB uploaded\\r'), FloatProgress(value=1.0, max=1.0)))"
            ],
            "application/vnd.jupyter.widget-view+json": {
              "version_major": 2,
              "version_minor": 0,
              "model_id": "91bc9e0aac1141bb8e5e2712be395d3e"
            }
          },
          "metadata": {}
        },
        {
          "output_type": "display_data",
          "data": {
            "text/plain": [
              "<IPython.core.display.HTML object>"
            ],
            "text/html": [
              "<style>\n",
              "    table.wandb td:nth-child(1) { padding: 0 10px; text-align: left ; width: auto;} td:nth-child(2) {text-align: left ; width: 100%}\n",
              "    .wandb-row { display: flex; flex-direction: row; flex-wrap: wrap; justify-content: flex-start; width: 100% }\n",
              "    .wandb-col { display: flex; flex-direction: column; flex-basis: 100%; flex: 1; padding: 10px; }\n",
              "    </style>\n",
              "<div class=\"wandb-row\"><div class=\"wandb-col\"><h3>Run history:</h3><br/><table class=\"wandb\"><tr><td>accuracy</td><td>▃▃▅▄▁▅█▅▆▄</td></tr><tr><td>epoch</td><td>▁▂▃▃▄▅▆▆▇█</td></tr><tr><td>loss</td><td>█▂▁▃▁▃▂▂▁▁</td></tr></table><br/></div><div class=\"wandb-col\"><h3>Run summary:</h3><br/><table class=\"wandb\"><tr><td>accuracy</td><td>0.57459</td></tr><tr><td>epoch</td><td>9</td></tr><tr><td>loss</td><td>1.87078</td></tr></table><br/></div></div>"
            ]
          },
          "metadata": {}
        },
        {
          "output_type": "display_data",
          "data": {
            "text/plain": [
              "<IPython.core.display.HTML object>"
            ],
            "text/html": [
              " View run <strong style=\"color:#cdcd00\">hardy-sweep-5</strong> at: <a href='https://wandb.ai/practice_0/Malaria%20Detection/runs/pau4lyc7' target=\"_blank\">https://wandb.ai/practice_0/Malaria%20Detection/runs/pau4lyc7</a><br/>Synced 5 W&B file(s), 1 media file(s), 0 artifact file(s) and 0 other file(s)"
            ]
          },
          "metadata": {}
        },
        {
          "output_type": "display_data",
          "data": {
            "text/plain": [
              "<IPython.core.display.HTML object>"
            ],
            "text/html": [
              "Find logs at: <code>./wandb/run-20240203_193508-pau4lyc7/logs</code>"
            ]
          },
          "metadata": {}
        }
      ]
    },
    {
      "cell_type": "markdown",
      "source": [
        "# Simple Run With WandB"
      ],
      "metadata": {
        "id": "5NUUDbcqR9R8"
      }
    },
    {
      "cell_type": "code",
      "source": [
        "\n",
        "\n",
        "IM_size = CONFIGURATION['IM_SIZE']\n",
        "DROPOUT = CONFIGURATION['DROPOUT_RATE']\n",
        "REGULARIZATION = CONFIGURATION['REGULARIZATION_RATE']\n",
        "N_FILTERS = CONFIGURATION['N_FILTERS']\n",
        "KERNEL_SIZE = CONFIGURATION['KERNEL_SIZE']\n",
        "POOL_SIZE = CONFIGURATION['POOL_SIZE']\n",
        "N_STRIDES = CONFIGURATION['N_STRIDES']\n",
        "LEARNING_RATE = CONFIGURATION['LEARNING_RATE']\n",
        "\n",
        "\n",
        "\n",
        "\n",
        "\n",
        "\n",
        "\n",
        "# Data augmentation layers\n",
        "augment_layers = tf.keras.Sequential([\n",
        "    RandomRotation(factor=(0.25, 0.2501)),\n",
        "    RandomFlip(mode='horizontal'),\n",
        "    RandomContrast(factor=0.1)\n",
        "])\n",
        "\n",
        "# Resizing and Rescaling layers\n",
        "resize_rescale_layers = tf.keras.Sequential([\n",
        "    Resizing(IM_size, IM_size),\n",
        "    Rescaling(1.0 / 255)\n",
        "])\n",
        "\n",
        "lenet_model = tf.keras.Sequential([\n",
        "    InputLayer(input_shape=(None, None, 3)),\n",
        "    resize_rescale_layers,\n",
        "    augment_layers,\n",
        "    Conv2D(filters=N_FILTERS, kernel_size=KERNEL_SIZE, strides=N_STRIDES, padding='valid', activation='relu', kernel_regularizer=L2(REGULARIZATION)),\n",
        "    BatchNormalization(),\n",
        "    MaxPool2D(pool_size=POOL_SIZE, strides=N_STRIDES*2),\n",
        "    Dropout(rate=DROPOUT),\n",
        "\n",
        "    Conv2D(filters=N_FILTERS*2 + 4, kernel_size=KERNEL_SIZE, strides=N_STRIDES, padding='valid', activation='relu', kernel_regularizer=L2(REGULARIZATION)),\n",
        "    BatchNormalization(),\n",
        "    MaxPool2D(pool_size=POOL_SIZE, strides=N_STRIDES*2),\n",
        "\n",
        "    Flatten(),\n",
        "\n",
        "    Dense(100, activation='relu', kernel_regularizer=L2(REGULARIZATION)),\n",
        "    BatchNormalization(),\n",
        "    Dropout(rate=DROPOUT),\n",
        "\n",
        "    Dense(10, activation='relu', kernel_regularizer=L2(REGULARIZATION)),\n",
        "    BatchNormalization(),\n",
        "\n",
        "    Dense(1, activation='sigmoid')\n",
        "])\n",
        "\n",
        "lenet_model.summary()\n"
      ],
      "metadata": {
        "colab": {
          "base_uri": "https://localhost:8080/"
        },
        "id": "sH1TmNeOcT85",
        "outputId": "d2a13f26-3724-4ab2-c0fa-db2d79264ced"
      },
      "execution_count": null,
      "outputs": [
        {
          "output_type": "stream",
          "name": "stdout",
          "text": [
            "Model: \"sequential_14\"\n",
            "_________________________________________________________________\n",
            " Layer (type)                Output Shape              Param #   \n",
            "=================================================================\n",
            " sequential_13 (Sequential)  (None, 224, 224, 3)       0         \n",
            "                                                                 \n",
            " sequential_12 (Sequential)  (None, 224, 224, 3)       0         \n",
            "                                                                 \n",
            " conv2d_8 (Conv2D)           (None, 219, 219, 6)       654       \n",
            "                                                                 \n",
            " batch_normalization_16 (Ba  (None, 219, 219, 6)       24        \n",
            " tchNormalization)                                               \n",
            "                                                                 \n",
            " max_pooling2d_8 (MaxPoolin  (None, 109, 109, 6)       0         \n",
            " g2D)                                                            \n",
            "                                                                 \n",
            " dropout_8 (Dropout)         (None, 109, 109, 6)       0         \n",
            "                                                                 \n",
            " conv2d_9 (Conv2D)           (None, 104, 104, 16)      3472      \n",
            "                                                                 \n",
            " batch_normalization_17 (Ba  (None, 104, 104, 16)      64        \n",
            " tchNormalization)                                               \n",
            "                                                                 \n",
            " max_pooling2d_9 (MaxPoolin  (None, 52, 52, 16)        0         \n",
            " g2D)                                                            \n",
            "                                                                 \n",
            " flatten_4 (Flatten)         (None, 43264)             0         \n",
            "                                                                 \n",
            " dense_12 (Dense)            (None, 100)               4326500   \n",
            "                                                                 \n",
            " batch_normalization_18 (Ba  (None, 100)               400       \n",
            " tchNormalization)                                               \n",
            "                                                                 \n",
            " dropout_9 (Dropout)         (None, 100)               0         \n",
            "                                                                 \n",
            " dense_13 (Dense)            (None, 10)                1010      \n",
            "                                                                 \n",
            " batch_normalization_19 (Ba  (None, 10)                40        \n",
            " tchNormalization)                                               \n",
            "                                                                 \n",
            " dense_14 (Dense)            (None, 1)                 11        \n",
            "                                                                 \n",
            "=================================================================\n",
            "Total params: 4332175 (16.53 MB)\n",
            "Trainable params: 4331911 (16.52 MB)\n",
            "Non-trainable params: 264 (1.03 KB)\n",
            "_________________________________________________________________\n"
          ]
        }
      ]
    },
    {
      "cell_type": "code",
      "source": [
        "\n",
        "metrics = [BinaryAccuracy(name='accuracy'),TruePositives(name='TP'),FalsePositives(name='FP'),TrueNegatives(name='TN'),FalseNegatives(name='FN'),Precision(name='precision'),Recall(name='recall'),AUC(name='AuC')]"
      ],
      "metadata": {
        "id": "6W2ogLCucT86"
      },
      "execution_count": null,
      "outputs": []
    },
    {
      "cell_type": "code",
      "source": [
        "\n",
        "binary_crossentropy_loss = BinaryCrossentropy()\n",
        "\n",
        "lenet_model.compile(optimizer=Adam(learning_rate=LEARNING_RATE), loss=binary_crossentropy_loss,metrics=metrics)"
      ],
      "metadata": {
        "id": "GiB8hQ2NcT86"
      },
      "execution_count": null,
      "outputs": []
    },
    {
      "cell_type": "code",
      "source": [
        "history=lenet_model.fit(train_dataset,\n",
        "                        validation_data=val_dataset,\n",
        "                        epochs=CONFIGURATION['N_EPOCHS'],\n",
        "                        verbose= 1 ,\n",
        "                        callbacks = [WandbCallback()])"
      ],
      "metadata": {
        "colab": {
          "base_uri": "https://localhost:8080/"
        },
        "outputId": "1146dcb4-bc6b-408f-bad6-fbdc4eabb53f",
        "id": "JvBoznE6cT86"
      },
      "execution_count": null,
      "outputs": [
        {
          "output_type": "stream",
          "name": "stdout",
          "text": [
            "Epoch 1/3\n",
            "  6/689 [..............................] - ETA: 41s - loss: 0.7931 - accuracy: 0.5573 - TP: 53.0000 - FP: 43.0000 - TN: 54.0000 - FN: 42.0000 - precision: 0.5521 - recall: 0.5579 - AuC: 0.5843"
          ]
        },
        {
          "output_type": "stream",
          "name": "stderr",
          "text": [
            "WARNING:tensorflow:Callback method `on_train_batch_end` is slow compared to the batch time (batch time: 0.0285s vs `on_train_batch_end` time: 0.0288s). Check your callbacks.\n"
          ]
        },
        {
          "output_type": "stream",
          "name": "stdout",
          "text": [
            "688/689 [============================>.] - ETA: 0s - loss: 0.4405 - accuracy: 0.7973 - TP: 8919.0000 - FP: 2373.0000 - TN: 8635.0000 - FN: 2089.0000 - precision: 0.7899 - recall: 0.8102 - AuC: 0.8773"
          ]
        },
        {
          "output_type": "stream",
          "name": "stderr",
          "text": [
            "/usr/local/lib/python3.10/dist-packages/keras/src/engine/training.py:3103: UserWarning: You are saving your model as an HDF5 file via `model.save()`. This file format is considered legacy. We recommend using instead the native Keras format, e.g. `model.save('my_model.keras')`.\n",
            "  saving_api.save_model(\n",
            "\u001b[34m\u001b[1mwandb\u001b[0m: Adding directory to artifact (/content/wandb/run-20240131_223007-pyewozm9/files/model-best)... Done. 0.2s\n"
          ]
        },
        {
          "output_type": "stream",
          "name": "stdout",
          "text": [
            "\b\b\b\b\b\b\b\b\b\b\b\b\b\b\b\b\b\b\b\b\b\b\b\b\b\b\b\b\b\b\b\b\b\b\b\b\b\b\b\b\b\b\b\b\b\b\b\b\b\b\b\b\b\b\b\b\b\b\b\b\b\b\b\b\b\b\b\b\b\b\b\b\b\b\b\b\b\b\b\b\b\b\b\b\b\b\b\b\b\b\b\b\b\b\b\b\b\b\b\b\b\b\b\b\b\b\b\b\b\b\b\b\b\b\b\b\b\b\b\b\b\b\b\b\b\b\b\b\b\b\b\b\b\b\b\b\b\b\b\b\b\b\b\b\b\b\b\b\b\b\b\b\b\b\b\b\b\b\b\b\b\b\b\b\b\b\b\b\b\b\b\b\b\b\b\b\b\b\b\b\b\b\b\b\b\b\b\b\b\b\b\b\b\b\b\b\b\b\b\r689/689 [==============================] - 63s 85ms/step - loss: 0.4402 - accuracy: 0.7975 - TP: 8932.0000 - FP: 2374.0000 - TN: 8650.0000 - FN: 2090.0000 - precision: 0.7900 - recall: 0.8104 - AuC: 0.8775 - val_loss: 1.3602 - val_accuracy: 0.5053 - val_TP: 1391.0000 - val_FP: 1362.0000 - val_TN: 1.0000 - val_FN: 1.0000 - val_precision: 0.5053 - val_recall: 0.9993 - val_AuC: 0.6795\n",
            "Epoch 2/3\n",
            "688/689 [============================>.] - ETA: 0s - loss: 0.2300 - accuracy: 0.9208 - TP: 10311.0000 - FP: 1045.0000 - TN: 9961.0000 - FN: 699.0000 - precision: 0.9080 - recall: 0.9365 - AuC: 0.9616"
          ]
        },
        {
          "output_type": "stream",
          "name": "stderr",
          "text": [
            "/usr/local/lib/python3.10/dist-packages/keras/src/engine/training.py:3103: UserWarning: You are saving your model as an HDF5 file via `model.save()`. This file format is considered legacy. We recommend using instead the native Keras format, e.g. `model.save('my_model.keras')`.\n",
            "  saving_api.save_model(\n",
            "\u001b[34m\u001b[1mwandb\u001b[0m: Adding directory to artifact (/content/wandb/run-20240131_223007-pyewozm9/files/model-best)... Done. 0.2s\n"
          ]
        },
        {
          "output_type": "stream",
          "name": "stdout",
          "text": [
            "\b\b\b\b\b\b\b\b\b\b\b\b\b\b\b\b\b\b\b\b\b\b\b\b\b\b\b\b\b\b\b\b\b\b\b\b\b\b\b\b\b\b\b\b\b\b\b\b\b\b\b\b\b\b\b\b\b\b\b\b\b\b\b\b\b\b\b\b\b\b\b\b\b\b\b\b\b\b\b\b\b\b\b\b\b\b\b\b\b\b\b\b\b\b\b\b\b\b\b\b\b\b\b\b\b\b\b\b\b\b\b\b\b\b\b\b\b\b\b\b\b\b\b\b\b\b\b\b\b\b\b\b\b\b\b\b\b\b\b\b\b\b\b\b\b\b\b\b\b\b\b\b\b\b\b\b\b\b\b\b\b\b\b\b\b\b\b\b\b\b\b\b\b\b\b\b\b\b\b\b\b\b\b\b\b\b\b\b\b\b\b\b\b\b\b\b\b\b\b\r689/689 [==============================] - 58s 84ms/step - loss: 0.2302 - accuracy: 0.9207 - TP: 10326.0000 - FP: 1047.0000 - TN: 9972.0000 - FN: 701.0000 - precision: 0.9079 - recall: 0.9364 - AuC: 0.9615 - val_loss: 0.2543 - val_accuracy: 0.9085 - val_TP: 1345.0000 - val_FP: 209.0000 - val_TN: 1158.0000 - val_FN: 43.0000 - val_precision: 0.8655 - val_recall: 0.9690 - val_AuC: 0.9695\n",
            "Epoch 3/3\n",
            "688/689 [============================>.] - ETA: 0s - loss: 0.2002 - accuracy: 0.9355 - TP: 10441.0000 - FP: 849.0000 - TN: 10155.0000 - FN: 571.0000 - precision: 0.9248 - recall: 0.9481 - AuC: 0.9677"
          ]
        },
        {
          "output_type": "stream",
          "name": "stderr",
          "text": [
            "/usr/local/lib/python3.10/dist-packages/keras/src/engine/training.py:3103: UserWarning: You are saving your model as an HDF5 file via `model.save()`. This file format is considered legacy. We recommend using instead the native Keras format, e.g. `model.save('my_model.keras')`.\n",
            "  saving_api.save_model(\n",
            "\u001b[34m\u001b[1mwandb\u001b[0m: Adding directory to artifact (/content/wandb/run-20240131_223007-pyewozm9/files/model-best)... Done. 0.2s\n"
          ]
        },
        {
          "output_type": "stream",
          "name": "stdout",
          "text": [
            "\b\b\b\b\b\b\b\b\b\b\b\b\b\b\b\b\b\b\b\b\b\b\b\b\b\b\b\b\b\b\b\b\b\b\b\b\b\b\b\b\b\b\b\b\b\b\b\b\b\b\b\b\b\b\b\b\b\b\b\b\b\b\b\b\b\b\b\b\b\b\b\b\b\b\b\b\b\b\b\b\b\b\b\b\b\b\b\b\b\b\b\b\b\b\b\b\b\b\b\b\b\b\b\b\b\b\b\b\b\b\b\b\b\b\b\b\b\b\b\b\b\b\b\b\b\b\b\b\b\b\b\b\b\b\b\b\b\b\b\b\b\b\b\b\b\b\b\b\b\b\b\b\b\b\b\b\b\b\b\b\b\b\b\b\b\b\b\b\b\b\b\b\b\b\b\b\b\b\b\b\b\b\b\b\b\b\b\b\b\b\b\b\b\b\b\b\b\b\b\r689/689 [==============================] - 79s 114ms/step - loss: 0.2001 - accuracy: 0.9355 - TP: 10454.0000 - FP: 850.0000 - TN: 10171.0000 - FN: 571.0000 - precision: 0.9248 - recall: 0.9482 - AuC: 0.9677 - val_loss: 0.2114 - val_accuracy: 0.9325 - val_TP: 1345.0000 - val_FP: 144.0000 - val_TN: 1224.0000 - val_FN: 42.0000 - val_precision: 0.9033 - val_recall: 0.9697 - val_AuC: 0.9725\n"
          ]
        }
      ]
    },
    {
      "cell_type": "code",
      "source": [
        "wandb.finish"
      ],
      "metadata": {
        "colab": {
          "base_uri": "https://localhost:8080/"
        },
        "id": "qdqaAQv4o4HB",
        "outputId": "c5c9e16d-d586-4828-a432-e423dee9bc5a"
      },
      "execution_count": null,
      "outputs": [
        {
          "output_type": "execute_result",
          "data": {
            "text/plain": [
              "<function wandb.sdk.wandb_run.finish(exit_code: Optional[int] = None, quiet: Optional[bool] = None) -> None>"
            ]
          },
          "metadata": {},
          "execution_count": 57
        }
      ]
    },
    {
      "cell_type": "code",
      "source": [
        "BATCH_SIZE = 32\n",
        "\n",
        "train_dataset = (\n",
        "    train_dataset\n",
        "    .shuffle(buffer_size=1000)\n",
        "    .map(resizing)\n",
        "    .batch(BATCH_SIZE)\n",
        "    .prefetch(tf.data.AUTOTUNE)\n",
        ")\n",
        "\n",
        "val_dataset = (\n",
        "    val_dataset\n",
        "    .map(resizing)\n",
        "    .batch(BATCH_SIZE)\n",
        "    .prefetch(tf.data.AUTOTUNE)\n",
        ")\n"
      ],
      "metadata": {
        "id": "N6ekcxvInC9b"
      },
      "execution_count": null,
      "outputs": []
    },
    {
      "cell_type": "code",
      "source": [],
      "metadata": {
        "id": "Jez3AEEeoU0g"
      },
      "execution_count": null,
      "outputs": []
    }
  ]
}